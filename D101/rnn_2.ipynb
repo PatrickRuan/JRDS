{
  "nbformat": 4,
  "nbformat_minor": 0,
  "metadata": {
    "colab": {
      "name": "rnn_2.ipynb",
      "version": "0.3.2",
      "provenance": [],
      "collapsed_sections": []
    },
    "kernelspec": {
      "name": "python3",
      "display_name": "Python 3"
    },
    "accelerator": "GPU"
  },
  "cells": [
    {
      "metadata": {
        "id": "qSaFydhbQeVY",
        "colab_type": "text"
      },
      "cell_type": "markdown",
      "source": [
        "# Todos"
      ]
    },
    {
      "metadata": {
        "id": "cWv662bwQ67o",
        "colab_type": "code",
        "outputId": "c19ebd04-eda2-41a8-b1cc-dcfed330d58b",
        "colab": {
          "base_uri": "https://localhost:8080/",
          "height": 417
        }
      },
      "cell_type": "code",
      "source": [
        "!apt-get install -y -qq software-properties-common python-software-properties module-init-tools\n",
        "!add-apt-repository -y ppa:alessandro-strada/ppa 2>&1 > /dev/null\n",
        "!apt-get update -qq 2>&1 > /dev/null\n",
        "!apt-get -y install -qq google-drive-ocamlfuse fuse\n",
        "\n",
        "\n",
        "\n",
        "# Generate auth tokens for Colab\n",
        "from google.colab import auth\n",
        "auth.authenticate_user()\n",
        "\n",
        "\n",
        "# Generate creds for the Drive FUSE library.\n",
        "from oauth2client.client import GoogleCredentials\n",
        "creds = GoogleCredentials.get_application_default()\n",
        "import getpass\n",
        "!google-drive-ocamlfuse -headless -id={creds.client_id} -secret={creds.client_secret} < /dev/null 2>&1 | grep URL\n",
        "vcode = getpass.getpass()\n",
        "!echo {vcode} | google-drive-ocamlfuse -headless -id={creds.client_id} -secret={creds.client_secret}\n",
        "\n",
        "\n",
        "# Create a directory and mount Google Drive using that directory.\n",
        "!mkdir -p drive\n",
        "!google-drive-ocamlfuse drive\n",
        "\n",
        "print('Files in Drive:')\n",
        "!ls drive/\n",
        "\n",
        "# Create a file in Drive.\n",
        "!echo \"This newly created file will appear in your Drive file list.\" > drive/created.txt"
      ],
      "execution_count": 1,
      "outputs": [
        {
          "output_type": "stream",
          "text": [
            "E: Package 'python-software-properties' has no installation candidate\n",
            "\n",
            "\n",
            "Selecting previously unselected package google-drive-ocamlfuse.\n",
            "(Reading database ... 110842 files and directories currently installed.)\n",
            "Preparing to unpack .../google-drive-ocamlfuse_0.7.1-0ubuntu3~ubuntu18.04.1_amd64.deb ...\n",
            "Unpacking google-drive-ocamlfuse (0.7.1-0ubuntu3~ubuntu18.04.1) ...\n",
            "Setting up google-drive-ocamlfuse (0.7.1-0ubuntu3~ubuntu18.04.1) ...\n",
            "Processing triggers for man-db (2.8.3-2ubuntu0.1) ...\n",
            "Please, open the following URL in a web browser: https://accounts.google.com/o/oauth2/auth?client_id=32555940559.apps.googleusercontent.com&redirect_uri=urn%3Aietf%3Awg%3Aoauth%3A2.0%3Aoob&scope=https%3A%2F%2Fwww.googleapis.com%2Fauth%2Fdrive&response_type=code&access_type=offline&approval_prompt=force\n",
            "··········\n",
            "Please, open the following URL in a web browser: https://accounts.google.com/o/oauth2/auth?client_id=32555940559.apps.googleusercontent.com&redirect_uri=urn%3Aietf%3Awg%3Aoauth%3A2.0%3Aoob&scope=https%3A%2F%2Fwww.googleapis.com%2Fauth%2Fdrive&response_type=code&access_type=offline&approval_prompt=force\n",
            "Please enter the verification code: Access token retrieved correctly.\n",
            "Files in Drive:\n",
            " 7697101Cavedu\t\t   created.txt\t\t  toSurface\n",
            " AIA\t\t\t   ImageCaption\t\t  尤利西斯2018.odt\n",
            " ai-car\t\t\t   MEDAI\t\t  未整理\n",
            "'AI Trading'\t\t  'ML100_Client Issues'   樂活基地\n",
            " app\t\t\t   ML100Days\t\t  無標題簡報.pdf\n",
            " ColabCode.ipynb\t   MyPython\t\t  門市業績表\n",
            "'ColabCode.ipynb 的副本'   MyWorks\n",
            "'Colab Notebooks'\t   ScratchLinkSetup.msi\n"
          ],
          "name": "stdout"
        }
      ]
    },
    {
      "metadata": {
        "id": "frfFif37iKF-",
        "colab_type": "code",
        "colab": {}
      },
      "cell_type": "code",
      "source": [
        ""
      ],
      "execution_count": 0,
      "outputs": []
    },
    {
      "metadata": {
        "id": "eN4knQTYQeVk",
        "colab_type": "text"
      },
      "cell_type": "markdown",
      "source": [
        "* y改為報酬率區間\n",
        "* 注意原資料的時間順序"
      ]
    },
    {
      "metadata": {
        "id": "5ASvt7sQQeVu",
        "colab_type": "code",
        "colab": {}
      },
      "cell_type": "code",
      "source": [
        "import numpy as np\n",
        "import tensorflow as tf\n",
        "import pandas as pd\n",
        "import matplotlib.pyplot as plt\n",
        "from sklearn.preprocessing import StandardScaler\n",
        "%matplotlib inline"
      ],
      "execution_count": 0,
      "outputs": []
    },
    {
      "metadata": {
        "id": "GS-8v3IiQeWR",
        "colab_type": "code",
        "colab": {}
      },
      "cell_type": "code",
      "source": [
        "import datetime"
      ],
      "execution_count": 0,
      "outputs": []
    },
    {
      "metadata": {
        "id": "UQ6hU6kUQeW1",
        "colab_type": "text"
      },
      "cell_type": "markdown",
      "source": [
        "### Step 0. Loading dataset and data cleaning\n",
        "* txf: 台指期\n",
        "* if1: 滬深300\n",
        "* s2sfc: 上證A50\n",
        "* hsic: 香港恆生指數期貨"
      ]
    },
    {
      "metadata": {
        "id": "9YHbbtcIQeXA",
        "colab_type": "code",
        "outputId": "f07db803-3ad7-445f-a752-828d74244129",
        "colab": {
          "base_uri": "https://localhost:8080/",
          "height": 34
        }
      },
      "cell_type": "code",
      "source": [
        "!dir data"
      ],
      "execution_count": 4,
      "outputs": [
        {
          "output_type": "stream",
          "text": [
            "dir: cannot access 'data': No such file or directory\n"
          ],
          "name": "stdout"
        }
      ]
    },
    {
      "metadata": {
        "id": "JMZzqRLSQeXq",
        "colab_type": "code",
        "colab": {}
      },
      "cell_type": "code",
      "source": [
        "# stock = pd.read_csv('data/SHSE.600519_2015-2018_day_end.txt', header=None)"
      ],
      "execution_count": 0,
      "outputs": []
    },
    {
      "metadata": {
        "id": "wDxZomeSY4s8",
        "colab_type": "code",
        "outputId": "7bad9c2c-603e-4bb5-e98a-665fd0401db5",
        "colab": {
          "base_uri": "https://localhost:8080/",
          "height": 34
        }
      },
      "cell_type": "code",
      "source": [
        "!dir drive/MyPython"
      ],
      "execution_count": 6,
      "outputs": [
        {
          "output_type": "stream",
          "text": [
            "Cat  PUBG  PythonDataScienceHandbook-master  Trade\\ AI\n"
          ],
          "name": "stdout"
        }
      ]
    },
    {
      "metadata": {
        "id": "Ko2WeNVJQeYG",
        "colab_type": "code",
        "colab": {}
      },
      "cell_type": "code",
      "source": [
        "stock = pd.read_csv('drive/MyPython/Trade AI/data/SHSE.600519_20181217_end.txt', header=None)"
      ],
      "execution_count": 0,
      "outputs": []
    },
    {
      "metadata": {
        "id": "ILVCb5GRQeYh",
        "colab_type": "code",
        "colab": {}
      },
      "cell_type": "code",
      "source": [
        "stock.columns = ['symbol', 'date', 'time', 'open', 'high', 'low', 'close', 'volume']"
      ],
      "execution_count": 0,
      "outputs": []
    },
    {
      "metadata": {
        "id": "5INueVJcQeZU",
        "colab_type": "code",
        "colab": {}
      },
      "cell_type": "code",
      "source": [
        "stock_drop = stock.drop(['date', 'time', 'symbol'], axis=1)"
      ],
      "execution_count": 0,
      "outputs": []
    },
    {
      "metadata": {
        "id": "0uBrV3TTQeY5",
        "colab_type": "code",
        "colab": {}
      },
      "cell_type": "code",
      "source": [
        "stock['datetime'] = pd.to_datetime(stock['date']+' '+stock['time'], format='%Y-%m-%d %H:%M:%S')\n"
      ],
      "execution_count": 0,
      "outputs": []
    },
    {
      "metadata": {
        "id": "eF6ZI4xEiKA3",
        "colab_type": "code",
        "colab": {}
      },
      "cell_type": "code",
      "source": [
        "stock_drop = stock.drop(['date', 'time', 'symbol'], axis=1)"
      ],
      "execution_count": 0,
      "outputs": []
    },
    {
      "metadata": {
        "id": "Q6v0-JzTQeZ5",
        "colab_type": "code",
        "outputId": "f7e5780c-223d-4b63-9315-9cdc9b83540f",
        "colab": {
          "base_uri": "https://localhost:8080/",
          "height": 203
        }
      },
      "cell_type": "code",
      "source": [
        "stock_drop.head(5)"
      ],
      "execution_count": 12,
      "outputs": [
        {
          "output_type": "execute_result",
          "data": {
            "text/html": [
              "<div>\n",
              "<style scoped>\n",
              "    .dataframe tbody tr th:only-of-type {\n",
              "        vertical-align: middle;\n",
              "    }\n",
              "\n",
              "    .dataframe tbody tr th {\n",
              "        vertical-align: top;\n",
              "    }\n",
              "\n",
              "    .dataframe thead th {\n",
              "        text-align: right;\n",
              "    }\n",
              "</style>\n",
              "<table border=\"1\" class=\"dataframe\">\n",
              "  <thead>\n",
              "    <tr style=\"text-align: right;\">\n",
              "      <th></th>\n",
              "      <th>open</th>\n",
              "      <th>high</th>\n",
              "      <th>low</th>\n",
              "      <th>close</th>\n",
              "      <th>volume</th>\n",
              "      <th>datetime</th>\n",
              "    </tr>\n",
              "  </thead>\n",
              "  <tbody>\n",
              "    <tr>\n",
              "      <th>0</th>\n",
              "      <td>198.779999</td>\n",
              "      <td>198.800003</td>\n",
              "      <td>197.050003</td>\n",
              "      <td>198.619995</td>\n",
              "      <td>277070.0</td>\n",
              "      <td>2015-10-08 09:31:00</td>\n",
              "    </tr>\n",
              "    <tr>\n",
              "      <th>1</th>\n",
              "      <td>198.639999</td>\n",
              "      <td>199.190002</td>\n",
              "      <td>198.639999</td>\n",
              "      <td>199.190002</td>\n",
              "      <td>143324.0</td>\n",
              "      <td>2015-10-08 09:32:00</td>\n",
              "    </tr>\n",
              "    <tr>\n",
              "      <th>2</th>\n",
              "      <td>199.199997</td>\n",
              "      <td>200.479996</td>\n",
              "      <td>199.199997</td>\n",
              "      <td>200.479996</td>\n",
              "      <td>103269.0</td>\n",
              "      <td>2015-10-08 09:33:00</td>\n",
              "    </tr>\n",
              "    <tr>\n",
              "      <th>3</th>\n",
              "      <td>200.500000</td>\n",
              "      <td>201.100006</td>\n",
              "      <td>200.500000</td>\n",
              "      <td>201.100006</td>\n",
              "      <td>120355.0</td>\n",
              "      <td>2015-10-08 09:34:00</td>\n",
              "    </tr>\n",
              "    <tr>\n",
              "      <th>4</th>\n",
              "      <td>201.119995</td>\n",
              "      <td>201.580002</td>\n",
              "      <td>200.600006</td>\n",
              "      <td>201.000000</td>\n",
              "      <td>116100.0</td>\n",
              "      <td>2015-10-08 09:35:00</td>\n",
              "    </tr>\n",
              "  </tbody>\n",
              "</table>\n",
              "</div>"
            ],
            "text/plain": [
              "         open        high         low       close    volume  \\\n",
              "0  198.779999  198.800003  197.050003  198.619995  277070.0   \n",
              "1  198.639999  199.190002  198.639999  199.190002  143324.0   \n",
              "2  199.199997  200.479996  199.199997  200.479996  103269.0   \n",
              "3  200.500000  201.100006  200.500000  201.100006  120355.0   \n",
              "4  201.119995  201.580002  200.600006  201.000000  116100.0   \n",
              "\n",
              "             datetime  \n",
              "0 2015-10-08 09:31:00  \n",
              "1 2015-10-08 09:32:00  \n",
              "2 2015-10-08 09:33:00  \n",
              "3 2015-10-08 09:34:00  \n",
              "4 2015-10-08 09:35:00  "
            ]
          },
          "metadata": {
            "tags": []
          },
          "execution_count": 12
        }
      ]
    },
    {
      "metadata": {
        "id": "CCz0tYb_QeaV",
        "colab_type": "code",
        "colab": {}
      },
      "cell_type": "code",
      "source": [
        "# Set Date-Time as index\n",
        "stock_drop.set_index('datetime', inplace=True)"
      ],
      "execution_count": 0,
      "outputs": []
    },
    {
      "metadata": {
        "id": "LNTC6e-pQeat",
        "colab_type": "code",
        "outputId": "5c856db4-8a53-4381-8c5b-641aea162f7b",
        "colab": {
          "base_uri": "https://localhost:8080/",
          "height": 282
        }
      },
      "cell_type": "code",
      "source": [
        "plt.plot(stock_drop['close'])"
      ],
      "execution_count": 14,
      "outputs": [
        {
          "output_type": "execute_result",
          "data": {
            "text/plain": [
              "[<matplotlib.lines.Line2D at 0x7f62313420f0>]"
            ]
          },
          "metadata": {
            "tags": []
          },
          "execution_count": 14
        },
        {
          "output_type": "display_data",
          "data": {
            "image/png": "[encoded data removed]",
            "text/plain": [
              "<matplotlib.figure.Figure at 0x7f6232655d30>"
            ]
          },
          "metadata": {
            "tags": []
          }
        }
      ]
    },
    {
      "metadata": {
        "id": "RJJHemtbQebO",
        "colab_type": "code",
        "outputId": "05f52a2c-55f8-417f-918f-98c6a5130899",
        "colab": {
          "base_uri": "https://localhost:8080/",
          "height": 34
        }
      },
      "cell_type": "code",
      "source": [
        "stock_drop.shape"
      ],
      "execution_count": 15,
      "outputs": [
        {
          "output_type": "execute_result",
          "data": {
            "text/plain": [
              "(143239, 5)"
            ]
          },
          "metadata": {
            "tags": []
          },
          "execution_count": 15
        }
      ]
    },
    {
      "metadata": {
        "id": "co-yFk-gQeb3",
        "colab_type": "code",
        "colab": {}
      },
      "cell_type": "code",
      "source": [
        "stock_drop = stock_drop.dropna()"
      ],
      "execution_count": 0,
      "outputs": []
    },
    {
      "metadata": {
        "id": "V1zPuLbAQecP",
        "colab_type": "code",
        "outputId": "095301b1-afd5-4e07-8681-8b3ff36413c2",
        "colab": {
          "base_uri": "https://localhost:8080/",
          "height": 34
        }
      },
      "cell_type": "code",
      "source": [
        "stock_drop.shape"
      ],
      "execution_count": 17,
      "outputs": [
        {
          "output_type": "execute_result",
          "data": {
            "text/plain": [
              "(143239, 5)"
            ]
          },
          "metadata": {
            "tags": []
          },
          "execution_count": 17
        }
      ]
    },
    {
      "metadata": {
        "id": "kBnIMdoDQecw",
        "colab_type": "code",
        "outputId": "46d732a3-983a-4cf8-dda2-6b3cc3400865",
        "colab": {
          "base_uri": "https://localhost:8080/",
          "height": 388
        }
      },
      "cell_type": "code",
      "source": [
        "stock_drop.head(10)"
      ],
      "execution_count": 18,
      "outputs": [
        {
          "output_type": "execute_result",
          "data": {
            "text/html": [
              "<div>\n",
              "<style scoped>\n",
              "    .dataframe tbody tr th:only-of-type {\n",
              "        vertical-align: middle;\n",
              "    }\n",
              "\n",
              "    .dataframe tbody tr th {\n",
              "        vertical-align: top;\n",
              "    }\n",
              "\n",
              "    .dataframe thead th {\n",
              "        text-align: right;\n",
              "    }\n",
              "</style>\n",
              "<table border=\"1\" class=\"dataframe\">\n",
              "  <thead>\n",
              "    <tr style=\"text-align: right;\">\n",
              "      <th></th>\n",
              "      <th>open</th>\n",
              "      <th>high</th>\n",
              "      <th>low</th>\n",
              "      <th>close</th>\n",
              "      <th>volume</th>\n",
              "    </tr>\n",
              "    <tr>\n",
              "      <th>datetime</th>\n",
              "      <th></th>\n",
              "      <th></th>\n",
              "      <th></th>\n",
              "      <th></th>\n",
              "      <th></th>\n",
              "    </tr>\n",
              "  </thead>\n",
              "  <tbody>\n",
              "    <tr>\n",
              "      <th>2015-10-08 09:31:00</th>\n",
              "      <td>198.779999</td>\n",
              "      <td>198.800003</td>\n",
              "      <td>197.050003</td>\n",
              "      <td>198.619995</td>\n",
              "      <td>277070.0</td>\n",
              "    </tr>\n",
              "    <tr>\n",
              "      <th>2015-10-08 09:32:00</th>\n",
              "      <td>198.639999</td>\n",
              "      <td>199.190002</td>\n",
              "      <td>198.639999</td>\n",
              "      <td>199.190002</td>\n",
              "      <td>143324.0</td>\n",
              "    </tr>\n",
              "    <tr>\n",
              "      <th>2015-10-08 09:33:00</th>\n",
              "      <td>199.199997</td>\n",
              "      <td>200.479996</td>\n",
              "      <td>199.199997</td>\n",
              "      <td>200.479996</td>\n",
              "      <td>103269.0</td>\n",
              "    </tr>\n",
              "    <tr>\n",
              "      <th>2015-10-08 09:34:00</th>\n",
              "      <td>200.500000</td>\n",
              "      <td>201.100006</td>\n",
              "      <td>200.500000</td>\n",
              "      <td>201.100006</td>\n",
              "      <td>120355.0</td>\n",
              "    </tr>\n",
              "    <tr>\n",
              "      <th>2015-10-08 09:35:00</th>\n",
              "      <td>201.119995</td>\n",
              "      <td>201.580002</td>\n",
              "      <td>200.600006</td>\n",
              "      <td>201.000000</td>\n",
              "      <td>116100.0</td>\n",
              "    </tr>\n",
              "    <tr>\n",
              "      <th>2015-10-08 09:36:00</th>\n",
              "      <td>201.000000</td>\n",
              "      <td>201.000000</td>\n",
              "      <td>200.000000</td>\n",
              "      <td>200.000000</td>\n",
              "      <td>66640.0</td>\n",
              "    </tr>\n",
              "    <tr>\n",
              "      <th>2015-10-08 09:37:00</th>\n",
              "      <td>200.000000</td>\n",
              "      <td>200.000000</td>\n",
              "      <td>199.800003</td>\n",
              "      <td>199.800003</td>\n",
              "      <td>34626.0</td>\n",
              "    </tr>\n",
              "    <tr>\n",
              "      <th>2015-10-08 09:38:00</th>\n",
              "      <td>199.619995</td>\n",
              "      <td>199.820007</td>\n",
              "      <td>199.619995</td>\n",
              "      <td>199.660004</td>\n",
              "      <td>51980.0</td>\n",
              "    </tr>\n",
              "    <tr>\n",
              "      <th>2015-10-08 09:39:00</th>\n",
              "      <td>199.660004</td>\n",
              "      <td>199.850006</td>\n",
              "      <td>199.630005</td>\n",
              "      <td>199.820007</td>\n",
              "      <td>38981.0</td>\n",
              "    </tr>\n",
              "    <tr>\n",
              "      <th>2015-10-08 09:40:00</th>\n",
              "      <td>199.820007</td>\n",
              "      <td>199.820007</td>\n",
              "      <td>199.699997</td>\n",
              "      <td>199.699997</td>\n",
              "      <td>76758.0</td>\n",
              "    </tr>\n",
              "  </tbody>\n",
              "</table>\n",
              "</div>"
            ],
            "text/plain": [
              "                           open        high         low       close    volume\n",
              "datetime                                                                     \n",
              "2015-10-08 09:31:00  198.779999  198.800003  197.050003  198.619995  277070.0\n",
              "2015-10-08 09:32:00  198.639999  199.190002  198.639999  199.190002  143324.0\n",
              "2015-10-08 09:33:00  199.199997  200.479996  199.199997  200.479996  103269.0\n",
              "2015-10-08 09:34:00  200.500000  201.100006  200.500000  201.100006  120355.0\n",
              "2015-10-08 09:35:00  201.119995  201.580002  200.600006  201.000000  116100.0\n",
              "2015-10-08 09:36:00  201.000000  201.000000  200.000000  200.000000   66640.0\n",
              "2015-10-08 09:37:00  200.000000  200.000000  199.800003  199.800003   34626.0\n",
              "2015-10-08 09:38:00  199.619995  199.820007  199.619995  199.660004   51980.0\n",
              "2015-10-08 09:39:00  199.660004  199.850006  199.630005  199.820007   38981.0\n",
              "2015-10-08 09:40:00  199.820007  199.820007  199.699997  199.699997   76758.0"
            ]
          },
          "metadata": {
            "tags": []
          },
          "execution_count": 18
        }
      ]
    },
    {
      "metadata": {
        "id": "KH154oOTQedx",
        "colab_type": "text"
      },
      "cell_type": "markdown",
      "source": [
        "### Step 1. Data preprocessing"
      ]
    },
    {
      "metadata": {
        "id": "i5hVL_gpQed9",
        "colab_type": "text"
      },
      "cell_type": "markdown",
      "source": [
        "#### Step 1.1 Scaling data"
      ]
    },
    {
      "metadata": {
        "id": "Q-LCCUE_QeeM",
        "colab_type": "code",
        "colab": {}
      },
      "cell_type": "code",
      "source": [
        "from sklearn import preprocessing"
      ],
      "execution_count": 0,
      "outputs": []
    },
    {
      "metadata": {
        "id": "JXA27eueQefJ",
        "colab_type": "code",
        "colab": {}
      },
      "cell_type": "code",
      "source": [
        "df=stock_drop.values"
      ],
      "execution_count": 0,
      "outputs": []
    },
    {
      "metadata": {
        "id": "MnrpVz-bQefw",
        "colab_type": "code",
        "colab": {}
      },
      "cell_type": "code",
      "source": [
        "def window_data(data, window_size):\n",
        "    X = []\n",
        "    y = []\n",
        "    \n",
        "    i = 0\n",
        "    while (i + window_size) <= len(data) - 1:\n",
        "        now_close = data[i+window_size-1,3] # close price\n",
        "        next_close = data[i+window_size,3] # close price\n",
        "#         print(now_close)\n",
        "        X.append(data[i:i+window_size])\n",
        "        future_return = (next_close-now_close)/now_close\n",
        "        if not now_close:\n",
        "            print('zero divident: ', i)\n",
        "#         print(future_return)\n",
        "        \n",
        "# 分兩類\n",
        "#         if future_return>=0.:\n",
        "#             y.append([0,1])\n",
        "#         else:\n",
        "#             y.append([1,0])\n",
        "\n",
        "\n",
        "# 分三類\n",
        "        BARRIER = 0.00001\n",
        "        if future_return>=BARRIER:\n",
        "            y.append([0,0,1])\n",
        "        elif (future_return<BARRIER) & (future_return>-BARRIER):\n",
        "            y.append([0,1,0])\n",
        "        else:\n",
        "            y.append([1,0,0])      \n",
        "        \n",
        "# 分五類\n",
        "#         if future_return>0.0003:\n",
        "#             y.append([0,0,0,0,1])\n",
        "#         elif (future_return>0.0001) & (future_return<=0.0003):\n",
        "#             y.append([0,0,0,1,0])\n",
        "#         elif (future_return>=-0.0001) & (future_return<=0.0001):\n",
        "#             y.append([0,0,1,0,0])\n",
        "#         elif (future_return>=-0.0003) & (future_return<-0.0001):\n",
        "#             y.append([0,1,0,0,0])\n",
        "#         else:\n",
        "#             y.append([1,0,0,0,0])\n",
        "        \n",
        "# 分九類\n",
        "#         if future_return>0.0003:\n",
        "#             y.append([0,0,0,0,0,0,0,0,1])\n",
        "#         elif (future_return>0.00015) & (future_return<=0.0003):\n",
        "#             y.append([0,0,0,0,0,0,0,1,0])\n",
        "#         elif (future_return>0.00005) & (future_return<=0.00015):\n",
        "#             y.append([0,0,0,0,0,0,1,0,0])\n",
        "#         elif (future_return>0) & (future_return<=0.00005):\n",
        "#             y.append([0,0,0,0,0,1,0,0,0])\n",
        "#         elif future_return==0:\n",
        "#             y.append([0,0,0,0,1,0,0,0,0])\n",
        "#         elif (future_return>-0.00005) & (future_return<0):\n",
        "#             y.append([0,0,0,1,0,0,0,0,0])\n",
        "#         elif (future_return>-0.00015) & (future_return<=-0.00005):\n",
        "#             y.append([0,0,1,0,0,0,0,0,0])\n",
        "#         elif (future_return>-0.0003) & (future_return<=-0.00015):\n",
        "#             y.append([0,1,0,0,0,0,0,0,0])\n",
        "#         else:\n",
        "#             y.append([1,0,0,0,0,0,0,0,0])\n",
        "        \n",
        "        i += 1\n",
        "    assert len(X) ==  len(y)\n",
        "    return X, y"
      ],
      "execution_count": 0,
      "outputs": []
    },
    {
      "metadata": {
        "id": "h_TxY9oWQegC",
        "colab_type": "text"
      },
      "cell_type": "markdown",
      "source": [
        "#### Step 1.2 Windowing the dataset"
      ]
    },
    {
      "metadata": {
        "id": "sxFRgV50QegL",
        "colab_type": "code",
        "colab": {}
      },
      "cell_type": "code",
      "source": [
        "window_size = 15"
      ],
      "execution_count": 0,
      "outputs": []
    },
    {
      "metadata": {
        "id": "8yRifnelQegj",
        "colab_type": "code",
        "colab": {}
      },
      "cell_type": "code",
      "source": [
        "X, y = window_data(df, window_size)"
      ],
      "execution_count": 0,
      "outputs": []
    },
    {
      "metadata": {
        "id": "kRfiERz7Qeg2",
        "colab_type": "code",
        "outputId": "bf73de07-c6cb-42f0-8db1-17c5d7722a56",
        "colab": {
          "base_uri": "https://localhost:8080/",
          "height": 34
        }
      },
      "cell_type": "code",
      "source": [
        "len(X), len(y)"
      ],
      "execution_count": 24,
      "outputs": [
        {
          "output_type": "execute_result",
          "data": {
            "text/plain": [
              "(143224, 143224)"
            ]
          },
          "metadata": {
            "tags": []
          },
          "execution_count": 24
        }
      ]
    },
    {
      "metadata": {
        "id": "7LC8gqgxQehb",
        "colab_type": "text"
      },
      "cell_type": "markdown",
      "source": [
        "#### Step 1.3 Creating Training and Testing sets"
      ]
    },
    {
      "metadata": {
        "id": "gTzGW9msQehn",
        "colab_type": "code",
        "colab": {}
      },
      "cell_type": "code",
      "source": [
        "num_train = 96000"
      ],
      "execution_count": 0,
      "outputs": []
    },
    {
      "metadata": {
        "id": "QcU6FoSbQeh8",
        "colab_type": "code",
        "outputId": "48652120-bcbb-4599-e374-9513906aef88",
        "colab": {
          "base_uri": "https://localhost:8080/",
          "height": 86
        }
      },
      "cell_type": "code",
      "source": [
        "X_train  = np.array(X[:num_train])\n",
        "y_train = np.array(y[:num_train])\n",
        "\n",
        "X_test = np.array(X[num_train:])\n",
        "y_test = np.array(y[num_train:])\n",
        "\n",
        "print(\"X_train size: {}\".format(X_train.shape))\n",
        "print(\"y_train size: {}\".format(y_train.shape))\n",
        "print(\"X_test size: {}\".format(X_test.shape))\n",
        "print(\"y_test size: {}\".format(y_test.shape))"
      ],
      "execution_count": 26,
      "outputs": [
        {
          "output_type": "stream",
          "text": [
            "X_train size: (96000, 15, 5)\n",
            "y_train size: (96000, 3)\n",
            "X_test size: (47224, 15, 5)\n",
            "y_test size: (47224, 3)\n"
          ],
          "name": "stdout"
        }
      ]
    },
    {
      "metadata": {
        "id": "0V5kIj7OQeiZ",
        "colab_type": "text"
      },
      "cell_type": "markdown",
      "source": [
        "### Let's create the RNN"
      ]
    },
    {
      "metadata": {
        "id": "5r79z0lxQeib",
        "colab_type": "code",
        "colab": {}
      },
      "cell_type": "code",
      "source": [
        "epochs = 10\n",
        "batch_size = 256\n",
        "num_classes = 3\n",
        "feature_size = 5"
      ],
      "execution_count": 0,
      "outputs": []
    },
    {
      "metadata": {
        "id": "PoBCb2T8Qeiv",
        "colab_type": "code",
        "colab": {}
      },
      "cell_type": "code",
      "source": [
        "def get_a_cell(lstm_size, keep_prob):\n",
        "    lstm = tf.nn.rnn_cell.BasicLSTMCell(lstm_size)\n",
        "    drop = tf.nn.rnn_cell.DropoutWrapper(lstm, output_keep_prob=keep_prob)\n",
        "    return drop\n",
        "\n",
        "def multi_LSTM_cell(hidden_layer_size, batch_size, number_of_layers, dropout, dropout_rate):\n",
        "    cell = tf.nn.rnn_cell.MultiRNNCell(\n",
        "              [get_a_cell(hidden_layer_size, dropout_rate) for _ in range(number_of_layers)])\n",
        "    init_state = cell.zero_state(batch_size, tf.float32)\n",
        "    return cell, init_state"
      ],
      "execution_count": 0,
      "outputs": []
    },
    {
      "metadata": {
        "id": "PEwH-bK3QejH",
        "colab_type": "code",
        "colab": {}
      },
      "cell_type": "code",
      "source": [
        "def output_layer(lstm_output, in_size, out_size):\n",
        "    \n",
        "    x = lstm_output[:, -1, :]\n",
        "    print(x)\n",
        "    weights = tf.Variable(tf.truncated_normal([in_size, out_size], stddev=0.05), name='output_layer_weights')\n",
        "    bias = tf.Variable(tf.zeros([out_size]), name='output_layer_bias')\n",
        "    \n",
        "    output = tf.matmul(x, weights) + bias\n",
        "    return output"
      ],
      "execution_count": 0,
      "outputs": []
    },
    {
      "metadata": {
        "id": "K1K1eXUCQejd",
        "colab_type": "code",
        "colab": {}
      },
      "cell_type": "code",
      "source": [
        "def opt_loss(logits, targets, learning_rate, grad_clip_margin):\n",
        "    # original loss define\n",
        "    losses = []\n",
        "    for i in range(targets.get_shape()[0]):\n",
        "#         print([(tf.pow(logits[i] - targets[i], 2))])\n",
        "        losses.append([(tf.pow(logits[i] - targets[i], 2))])\n",
        "        \n",
        "    loss = tf.reduce_sum(losses)/(2*batch_size)\n",
        "    \n",
        "    # cross entropy define\n",
        "#     loss = tf.reduce_mean(tf.nn.softmax_cross_entropy_with_logits(logits=logits, labels=targets))\n",
        "    #Cliping the gradient loss\n",
        "    gradients = tf.gradients(loss, tf.trainable_variables())\n",
        "    clipper_, _ = tf.clip_by_global_norm(gradients, grad_clip_margin)\n",
        "    optimizer = tf.train.AdamOptimizer(learning_rate)\n",
        "    train_optimizer = optimizer.apply_gradients(zip(clipper_, tf.trainable_variables()))\n",
        "    return loss, train_optimizer"
      ],
      "execution_count": 0,
      "outputs": []
    },
    {
      "metadata": {
        "id": "MdbBrOiCQej0",
        "colab_type": "code",
        "colab": {}
      },
      "cell_type": "code",
      "source": [
        ""
      ],
      "execution_count": 0,
      "outputs": []
    },
    {
      "metadata": {
        "id": "9iWlqLBKQekL",
        "colab_type": "code",
        "colab": {}
      },
      "cell_type": "code",
      "source": [
        "# a = np.array([5,0,0])\n",
        "# b = np.array([1,0,0])\n",
        "# c = tf.pow(a - b, 2)\n",
        "# with tf.Session() as sess:\n",
        "#     print(sess.run(c))\n",
        "# d = tf.reduce_sum(c)"
      ],
      "execution_count": 0,
      "outputs": []
    },
    {
      "metadata": {
        "id": "aca7yXj2QekZ",
        "colab_type": "code",
        "colab": {}
      },
      "cell_type": "code",
      "source": [
        "class StockPredictionRNN(object):\n",
        "    \n",
        "    def __init__(self, learning_rate=0.01, batch_size=batch_size, hidden_layer_size=64, number_of_layers=6, \n",
        "                 dropout=True, dropout_rate=0.2, number_of_classes=num_classes, gradient_clip_margin=4, window_size=window_size):\n",
        "    \n",
        "        self.inputs = tf.placeholder(tf.float32, [batch_size, window_size, feature_size], name='input_data')\n",
        "        self.targets = tf.placeholder(tf.float32, [batch_size, num_classes], name='targets')\n",
        "\n",
        "        cell, init_state = multi_LSTM_cell(hidden_layer_size, batch_size, number_of_layers, dropout, dropout_rate)\n",
        "\n",
        "        outputs, states = tf.nn.dynamic_rnn(cell, self.inputs, initial_state=init_state)\n",
        "\n",
        "        self.logits = output_layer(outputs, hidden_layer_size, number_of_classes)\n",
        "        self.prob = tf.nn.softmax(self.logits)\n",
        "\n",
        "        self.loss, self.opt = opt_loss(self.logits, self.targets, learning_rate, gradient_clip_margin)"
      ],
      "execution_count": 0,
      "outputs": []
    },
    {
      "metadata": {
        "id": "yVN7eLicQeky",
        "colab_type": "code",
        "outputId": "64d2f67d-5a41-4484-a7b4-1bcfb437c3f8",
        "colab": {
          "base_uri": "https://localhost:8080/",
          "height": 106
        }
      },
      "cell_type": "code",
      "source": [
        "tf.reset_default_graph()\n",
        "model = StockPredictionRNN()"
      ],
      "execution_count": 33,
      "outputs": [
        {
          "output_type": "stream",
          "text": [
            "WARNING:tensorflow:From <ipython-input-28-0db075af317c>:2: BasicLSTMCell.__init__ (from tensorflow.python.ops.rnn_cell_impl) is deprecated and will be removed in a future version.\n",
            "Instructions for updating:\n",
            "This class is deprecated, please use tf.nn.rnn_cell.LSTMCell, which supports all the feature this cell currently has. Please replace the existing code with tf.nn.rnn_cell.LSTMCell(name='basic_lstm_cell').\n",
            "Tensor(\"strided_slice:0\", shape=(256, 64), dtype=float32)\n"
          ],
          "name": "stdout"
        }
      ]
    },
    {
      "metadata": {
        "id": "AaZFYFd9QelP",
        "colab_type": "code",
        "outputId": "fbcef12e-3114-4df0-cd46-ab45182d9214",
        "colab": {
          "base_uri": "https://localhost:8080/",
          "height": 777
        }
      },
      "cell_type": "code",
      "source": [
        "tf.global_variables()"
      ],
      "execution_count": 34,
      "outputs": [
        {
          "output_type": "execute_result",
          "data": {
            "text/plain": [
              "[<tf.Variable 'rnn/multi_rnn_cell/cell_0/basic_lstm_cell/kernel:0' shape=(69, 256) dtype=float32_ref>,\n",
              " <tf.Variable 'rnn/multi_rnn_cell/cell_0/basic_lstm_cell/bias:0' shape=(256,) dtype=float32_ref>,\n",
              " <tf.Variable 'rnn/multi_rnn_cell/cell_1/basic_lstm_cell/kernel:0' shape=(128, 256) dtype=float32_ref>,\n",
              " <tf.Variable 'rnn/multi_rnn_cell/cell_1/basic_lstm_cell/bias:0' shape=(256,) dtype=float32_ref>,\n",
              " <tf.Variable 'rnn/multi_rnn_cell/cell_2/basic_lstm_cell/kernel:0' shape=(128, 256) dtype=float32_ref>,\n",
              " <tf.Variable 'rnn/multi_rnn_cell/cell_2/basic_lstm_cell/bias:0' shape=(256,) dtype=float32_ref>,\n",
              " <tf.Variable 'rnn/multi_rnn_cell/cell_3/basic_lstm_cell/kernel:0' shape=(128, 256) dtype=float32_ref>,\n",
              " <tf.Variable 'rnn/multi_rnn_cell/cell_3/basic_lstm_cell/bias:0' shape=(256,) dtype=float32_ref>,\n",
              " <tf.Variable 'rnn/multi_rnn_cell/cell_4/basic_lstm_cell/kernel:0' shape=(128, 256) dtype=float32_ref>,\n",
              " <tf.Variable 'rnn/multi_rnn_cell/cell_4/basic_lstm_cell/bias:0' shape=(256,) dtype=float32_ref>,\n",
              " <tf.Variable 'rnn/multi_rnn_cell/cell_5/basic_lstm_cell/kernel:0' shape=(128, 256) dtype=float32_ref>,\n",
              " <tf.Variable 'rnn/multi_rnn_cell/cell_5/basic_lstm_cell/bias:0' shape=(256,) dtype=float32_ref>,\n",
              " <tf.Variable 'output_layer_weights:0' shape=(64, 3) dtype=float32_ref>,\n",
              " <tf.Variable 'output_layer_bias:0' shape=(3,) dtype=float32_ref>,\n",
              " <tf.Variable 'beta1_power:0' shape=() dtype=float32_ref>,\n",
              " <tf.Variable 'beta2_power:0' shape=() dtype=float32_ref>,\n",
              " <tf.Variable 'rnn/multi_rnn_cell/cell_0/basic_lstm_cell/kernel/Adam:0' shape=(69, 256) dtype=float32_ref>,\n",
              " <tf.Variable 'rnn/multi_rnn_cell/cell_0/basic_lstm_cell/kernel/Adam_1:0' shape=(69, 256) dtype=float32_ref>,\n",
              " <tf.Variable 'rnn/multi_rnn_cell/cell_0/basic_lstm_cell/bias/Adam:0' shape=(256,) dtype=float32_ref>,\n",
              " <tf.Variable 'rnn/multi_rnn_cell/cell_0/basic_lstm_cell/bias/Adam_1:0' shape=(256,) dtype=float32_ref>,\n",
              " <tf.Variable 'rnn/multi_rnn_cell/cell_1/basic_lstm_cell/kernel/Adam:0' shape=(128, 256) dtype=float32_ref>,\n",
              " <tf.Variable 'rnn/multi_rnn_cell/cell_1/basic_lstm_cell/kernel/Adam_1:0' shape=(128, 256) dtype=float32_ref>,\n",
              " <tf.Variable 'rnn/multi_rnn_cell/cell_1/basic_lstm_cell/bias/Adam:0' shape=(256,) dtype=float32_ref>,\n",
              " <tf.Variable 'rnn/multi_rnn_cell/cell_1/basic_lstm_cell/bias/Adam_1:0' shape=(256,) dtype=float32_ref>,\n",
              " <tf.Variable 'rnn/multi_rnn_cell/cell_2/basic_lstm_cell/kernel/Adam:0' shape=(128, 256) dtype=float32_ref>,\n",
              " <tf.Variable 'rnn/multi_rnn_cell/cell_2/basic_lstm_cell/kernel/Adam_1:0' shape=(128, 256) dtype=float32_ref>,\n",
              " <tf.Variable 'rnn/multi_rnn_cell/cell_2/basic_lstm_cell/bias/Adam:0' shape=(256,) dtype=float32_ref>,\n",
              " <tf.Variable 'rnn/multi_rnn_cell/cell_2/basic_lstm_cell/bias/Adam_1:0' shape=(256,) dtype=float32_ref>,\n",
              " <tf.Variable 'rnn/multi_rnn_cell/cell_3/basic_lstm_cell/kernel/Adam:0' shape=(128, 256) dtype=float32_ref>,\n",
              " <tf.Variable 'rnn/multi_rnn_cell/cell_3/basic_lstm_cell/kernel/Adam_1:0' shape=(128, 256) dtype=float32_ref>,\n",
              " <tf.Variable 'rnn/multi_rnn_cell/cell_3/basic_lstm_cell/bias/Adam:0' shape=(256,) dtype=float32_ref>,\n",
              " <tf.Variable 'rnn/multi_rnn_cell/cell_3/basic_lstm_cell/bias/Adam_1:0' shape=(256,) dtype=float32_ref>,\n",
              " <tf.Variable 'rnn/multi_rnn_cell/cell_4/basic_lstm_cell/kernel/Adam:0' shape=(128, 256) dtype=float32_ref>,\n",
              " <tf.Variable 'rnn/multi_rnn_cell/cell_4/basic_lstm_cell/kernel/Adam_1:0' shape=(128, 256) dtype=float32_ref>,\n",
              " <tf.Variable 'rnn/multi_rnn_cell/cell_4/basic_lstm_cell/bias/Adam:0' shape=(256,) dtype=float32_ref>,\n",
              " <tf.Variable 'rnn/multi_rnn_cell/cell_4/basic_lstm_cell/bias/Adam_1:0' shape=(256,) dtype=float32_ref>,\n",
              " <tf.Variable 'rnn/multi_rnn_cell/cell_5/basic_lstm_cell/kernel/Adam:0' shape=(128, 256) dtype=float32_ref>,\n",
              " <tf.Variable 'rnn/multi_rnn_cell/cell_5/basic_lstm_cell/kernel/Adam_1:0' shape=(128, 256) dtype=float32_ref>,\n",
              " <tf.Variable 'rnn/multi_rnn_cell/cell_5/basic_lstm_cell/bias/Adam:0' shape=(256,) dtype=float32_ref>,\n",
              " <tf.Variable 'rnn/multi_rnn_cell/cell_5/basic_lstm_cell/bias/Adam_1:0' shape=(256,) dtype=float32_ref>,\n",
              " <tf.Variable 'output_layer_weights/Adam:0' shape=(64, 3) dtype=float32_ref>,\n",
              " <tf.Variable 'output_layer_weights/Adam_1:0' shape=(64, 3) dtype=float32_ref>,\n",
              " <tf.Variable 'output_layer_bias/Adam:0' shape=(3,) dtype=float32_ref>,\n",
              " <tf.Variable 'output_layer_bias/Adam_1:0' shape=(3,) dtype=float32_ref>]"
            ]
          },
          "metadata": {
            "tags": []
          },
          "execution_count": 34
        }
      ]
    },
    {
      "metadata": {
        "id": "07Yf6i-3Qelv",
        "colab_type": "text"
      },
      "cell_type": "markdown",
      "source": [
        "### Time to train the network"
      ]
    },
    {
      "metadata": {
        "id": "TMPtR908Qel3",
        "colab_type": "code",
        "colab": {}
      },
      "cell_type": "code",
      "source": [
        "session =  tf.Session()"
      ],
      "execution_count": 0,
      "outputs": []
    },
    {
      "metadata": {
        "id": "78XJ1zilQemN",
        "colab_type": "code",
        "colab": {}
      },
      "cell_type": "code",
      "source": [
        "session.run(tf.global_variables_initializer())"
      ],
      "execution_count": 0,
      "outputs": []
    },
    {
      "metadata": {
        "scrolled": true,
        "id": "rOz9_PjCQeml",
        "colab_type": "code",
        "outputId": "6862cc6b-27d6-43ce-e0d1-7c10b0093fbd",
        "colab": {
          "base_uri": "https://localhost:8080/",
          "height": 189
        }
      },
      "cell_type": "code",
      "source": [
        "total_epoch_loss = []\n",
        "for i in range(epochs):\n",
        "    traind_scores = []\n",
        "    traind_prob = []\n",
        "    ii = 0\n",
        "    epoch_loss = []\n",
        "    while(ii + batch_size) <= len(X_train):\n",
        "        X_batch = X_train[ii:ii+batch_size]\n",
        "        y_batch = y_train[ii:ii+batch_size]\n",
        "        \n",
        "        p, o, c, _ = session.run([model.prob, model.logits, model.loss, model.opt], feed_dict={model.inputs:X_batch, model.targets:y_batch})\n",
        "        \n",
        "        epoch_loss.append(c)\n",
        "        traind_scores.append(o)\n",
        "        traind_prob.append(p)\n",
        "        ii += batch_size\n",
        "    total_epoch_loss.append(c)\n",
        "    print('Epoch {}/{}'.format(i, epochs), ' Current loss: {}'.format(np.mean(epoch_loss)))"
      ],
      "execution_count": 37,
      "outputs": [
        {
          "output_type": "stream",
          "text": [
            "Epoch 0/10  Current loss: 0.2986578345298767\n",
            "Epoch 1/10  Current loss: 0.2927340567111969\n",
            "Epoch 2/10  Current loss: 0.2926296293735504\n",
            "Epoch 3/10  Current loss: 0.2926207184791565\n",
            "Epoch 4/10  Current loss: 0.2925646901130676\n",
            "Epoch 5/10  Current loss: 0.2925912141799927\n",
            "Epoch 6/10  Current loss: 0.29259753227233887\n",
            "Epoch 7/10  Current loss: 0.2926095128059387\n",
            "Epoch 8/10  Current loss: 0.29256659746170044\n",
            "Epoch 9/10  Current loss: 0.2926098704338074\n"
          ],
          "name": "stdout"
        }
      ]
    },
    {
      "metadata": {
        "id": "wRzwO0I-Qem9",
        "colab_type": "code",
        "colab": {
          "base_uri": "https://localhost:8080/",
          "height": 282
        },
        "outputId": "087a4fac-855b-416f-f4d2-c511c3b32ab7"
      },
      "cell_type": "code",
      "source": [
        "import matplotlib.pyplot as plt\n",
        "# epoch_loss\n",
        "plt.plot(total_epoch_loss)"
      ],
      "execution_count": 38,
      "outputs": [
        {
          "output_type": "execute_result",
          "data": {
            "text/plain": [
              "[<matplotlib.lines.Line2D at 0x7f6221bc2dd8>]"
            ]
          },
          "metadata": {
            "tags": []
          },
          "execution_count": 38
        },
        {
          "output_type": "display_data",
          "data": {
            "image/png": "[encoded data removed]",
            "text/plain": [
              "<matplotlib.figure.Figure at 0x7f6227c0dd68>"
            ]
          },
          "metadata": {
            "tags": []
          }
        }
      ]
    },
    {
      "metadata": {
        "id": "WHSY4nvjQeoX",
        "colab_type": "text"
      },
      "cell_type": "markdown",
      "source": [
        "### save model"
      ]
    },
    {
      "metadata": {
        "id": "O2XgROiRQeof",
        "colab_type": "code",
        "colab": {}
      },
      "cell_type": "code",
      "source": [
        "model_save_path = 'drive/MyPython/Trade AI/ckpt/rnn'\n",
        "SAVED = 0"
      ],
      "execution_count": 0,
      "outputs": []
    },
    {
      "metadata": {
        "id": "4g3Hk50cQeo1",
        "colab_type": "code",
        "colab": {}
      },
      "cell_type": "code",
      "source": [
        "if SAVED:\n",
        "    saver = tf.train.Saver()\n",
        "    saver.save(sess=session, save_path=model_save_path)"
      ],
      "execution_count": 0,
      "outputs": []
    },
    {
      "metadata": {
        "id": "BEl0K2j1QepR",
        "colab_type": "code",
        "colab": {}
      },
      "cell_type": "code",
      "source": [
        "sup =[]\n",
        "for i in range(len(traind_prob)):\n",
        "    for j in range(len(traind_prob[i])):\n",
        "        sup.append(traind_prob[i][j])"
      ],
      "execution_count": 0,
      "outputs": []
    },
    {
      "metadata": {
        "id": "EI4QdSYfQepr",
        "colab_type": "code",
        "colab": {}
      },
      "cell_type": "code",
      "source": [
        "tests = []\n",
        "i = 0\n",
        "while i+batch_size <= len(X_test):\n",
        "    \n",
        "    o = session.run([model.prob], feed_dict={model.inputs:X_test[i:i+batch_size]})\n",
        "    i += batch_size\n",
        "    tests.append(o)"
      ],
      "execution_count": 0,
      "outputs": []
    },
    {
      "metadata": {
        "id": "3rGq1Be9QeqA",
        "colab_type": "code",
        "colab": {}
      },
      "cell_type": "code",
      "source": [
        "tests_new = []\n",
        "for i in range(len(tests)):\n",
        "    for j in range(len(tests[i][0])):\n",
        "        tests_new.append(tests[i][0][j])"
      ],
      "execution_count": 0,
      "outputs": []
    },
    {
      "metadata": {
        "id": "ZjePc07uQeqX",
        "colab_type": "code",
        "colab": {}
      },
      "cell_type": "code",
      "source": [
        "test_results = []\n",
        "for i in range(749):\n",
        "    if i >= 701:\n",
        "        test_results.append(tests_new[i-701])\n",
        "    else:\n",
        "        test_results.append(None)"
      ],
      "execution_count": 0,
      "outputs": []
    },
    {
      "metadata": {
        "id": "vLJk7rTIQeq4",
        "colab_type": "code",
        "colab": {
          "base_uri": "https://localhost:8080/",
          "height": 34
        },
        "outputId": "5766d80b-2b74-4757-f578-37cab39d0d99"
      },
      "cell_type": "code",
      "source": [
        "len(sup)"
      ],
      "execution_count": 45,
      "outputs": [
        {
          "output_type": "execute_result",
          "data": {
            "text/plain": [
              "96000"
            ]
          },
          "metadata": {
            "tags": []
          },
          "execution_count": 45
        }
      ]
    },
    {
      "metadata": {
        "scrolled": true,
        "id": "FYJW4TgTQerb",
        "colab_type": "code",
        "colab": {
          "base_uri": "https://localhost:8080/",
          "height": 34
        },
        "outputId": "bfe4d4dc-1001-4fb9-f3a6-187eee2dc606"
      },
      "cell_type": "code",
      "source": [
        "sup[30]"
      ],
      "execution_count": 46,
      "outputs": [
        {
          "output_type": "execute_result",
          "data": {
            "text/plain": [
              "array([0.37270898, 0.25244898, 0.37484208], dtype=float32)"
            ]
          },
          "metadata": {
            "tags": []
          },
          "execution_count": 46
        }
      ]
    },
    {
      "metadata": {
        "scrolled": true,
        "id": "XdgrytwpQerx",
        "colab_type": "code",
        "colab": {
          "base_uri": "https://localhost:8080/",
          "height": 427
        },
        "outputId": "81a25996-5838-4708-f8cc-f212a8c617f6"
      },
      "cell_type": "code",
      "source": [
        "plt.figure(figsize=(16, 7))\n",
        "# plt.plot(scaled_dataset, label='Original data')\n",
        "plt.plot(sup[500:730], label='Training data')\n",
        "# plt.plot(test_results[:], label='Testing data')\n",
        "plt.legend()\n",
        "plt.show()"
      ],
      "execution_count": 47,
      "outputs": [
        {
          "output_type": "display_data",
          "data": {
            "image/png": "[encoded data removed]",
            "text/plain": [
              "<matplotlib.figure.Figure at 0x7f62214088d0>"
            ]
          },
          "metadata": {
            "tags": []
          }
        }
      ]
    },
    {
      "metadata": {
        "id": "MithYgJzQesh",
        "colab_type": "code",
        "colab": {}
      },
      "cell_type": "code",
      "source": [
        ""
      ],
      "execution_count": 0,
      "outputs": []
    }
  ]
}