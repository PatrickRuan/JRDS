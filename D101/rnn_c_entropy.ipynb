{
  "nbformat": 4,
  "nbformat_minor": 0,
  "metadata": {
    "colab": {
      "name": "rnn_c_entropy.ipynb",
      "version": "0.3.2",
      "provenance": [],
      "collapsed_sections": []
    },
    "kernelspec": {
      "name": "python3",
      "display_name": "Python 3"
    },
    "accelerator": "GPU"
  },
  "cells": [
    {
      "metadata": {
        "id": "qSaFydhbQeVY",
        "colab_type": "text"
      },
      "cell_type": "markdown",
      "source": [
        "# Todos"
      ]
    },
    {
      "metadata": {
        "id": "cWv662bwQ67o",
        "colab_type": "code",
        "outputId": "889d90fe-1d89-4406-d22b-5fceb685c3e0",
        "colab": {
          "base_uri": "https://localhost:8080/",
          "height": 241
        }
      },
      "cell_type": "code",
      "source": [
        "!apt-get install -y -qq software-properties-common python-software-properties module-init-tools\n",
        "!add-apt-repository -y ppa:alessandro-strada/ppa 2>&1 > /dev/null\n",
        "!apt-get update -qq 2>&1 > /dev/null\n",
        "!apt-get -y install -qq google-drive-ocamlfuse fuse\n",
        "\n",
        "\n",
        "\n",
        "# Generate auth tokens for Colab\n",
        "from google.colab import auth\n",
        "auth.authenticate_user()\n",
        "\n",
        "\n",
        "# Generate creds for the Drive FUSE library.\n",
        "from oauth2client.client import GoogleCredentials\n",
        "creds = GoogleCredentials.get_application_default()\n",
        "import getpass\n",
        "!google-drive-ocamlfuse -headless -id={creds.client_id} -secret={creds.client_secret} < /dev/null 2>&1 | grep URL\n",
        "vcode = getpass.getpass()\n",
        "!echo {vcode} | google-drive-ocamlfuse -headless -id={creds.client_id} -secret={creds.client_secret}\n",
        "\n",
        "\n",
        "# Create a directory and mount Google Drive using that directory.\n",
        "!mkdir -p drive\n",
        "!google-drive-ocamlfuse drive\n",
        "\n",
        "print('Files in Drive:')\n",
        "!ls drive/\n",
        "\n",
        "# Create a file in Drive.\n",
        "!echo \"This newly created file will appear in your Drive file list.\" > drive/created.txt"
      ],
      "execution_count": 2,
      "outputs": [
        {
          "output_type": "stream",
          "text": [
            "E: Package 'python-software-properties' has no installation candidate\n",
            "··········\n",
            "fuse: mountpoint is not empty\n",
            "fuse: if you are sure this is safe, use the 'nonempty' mount option\n",
            "Files in Drive:\n",
            " 7697101Cavedu\t\t   created.txt\t\t  ScratchLinkSetup.msi\n",
            " AIA\t\t\t   ImageCaption\t\t  toSurface\n",
            " ai-car\t\t\t   MEDAI\t\t  尤利西斯2018.odt\n",
            "'AI Trading'\t\t  'ML100_Client Issues'   未整理\n",
            " app\t\t\t   ML100Days\t\t  樂活基地\n",
            " ColabCode.ipynb\t   MyPython\t\t  無標題簡報.pdf\n",
            "'ColabCode.ipynb 的副本'   MyWorks\t\t  門市業績表\n",
            "'Colab Notebooks'\t   rnn_c_entropy.ipynb\n"
          ],
          "name": "stdout"
        }
      ]
    },
    {
      "metadata": {
        "id": "eN4knQTYQeVk",
        "colab_type": "text"
      },
      "cell_type": "markdown",
      "source": [
        "* y改為報酬率區間\n",
        "* 注意原資料的時間順序"
      ]
    },
    {
      "metadata": {
        "id": "5ASvt7sQQeVu",
        "colab_type": "code",
        "colab": {}
      },
      "cell_type": "code",
      "source": [
        "import numpy as np\n",
        "import tensorflow as tf\n",
        "import pandas as pd\n",
        "import matplotlib.pyplot as plt\n",
        "from sklearn.preprocessing import StandardScaler\n",
        "%matplotlib inline"
      ],
      "execution_count": 0,
      "outputs": []
    },
    {
      "metadata": {
        "id": "GS-8v3IiQeWR",
        "colab_type": "code",
        "colab": {}
      },
      "cell_type": "code",
      "source": [
        "import datetime"
      ],
      "execution_count": 0,
      "outputs": []
    },
    {
      "metadata": {
        "id": "UQ6hU6kUQeW1",
        "colab_type": "text"
      },
      "cell_type": "markdown",
      "source": [
        "### Step 0. Loading dataset and data cleaning\n",
        "* txf: 台指期\n",
        "* if1: 滬深300\n",
        "* s2sfc: 上證A50\n",
        "* hsic: 香港恆生指數期貨"
      ]
    },
    {
      "metadata": {
        "id": "9YHbbtcIQeXA",
        "colab_type": "code",
        "outputId": "1b4bf735-c3dd-4759-8261-76edfa41988e",
        "colab": {
          "base_uri": "https://localhost:8080/",
          "height": 34
        }
      },
      "cell_type": "code",
      "source": [
        "!dir data"
      ],
      "execution_count": 5,
      "outputs": [
        {
          "output_type": "stream",
          "text": [
            "dir: cannot access 'data': No such file or directory\n"
          ],
          "name": "stdout"
        }
      ]
    },
    {
      "metadata": {
        "id": "JMZzqRLSQeXq",
        "colab_type": "code",
        "colab": {}
      },
      "cell_type": "code",
      "source": [
        "# stock = pd.read_csv('data/SHSE.600519_2015-2018_day_end.txt', header=None)"
      ],
      "execution_count": 0,
      "outputs": []
    },
    {
      "metadata": {
        "id": "wDxZomeSY4s8",
        "colab_type": "code",
        "outputId": "9a56dce7-a9a8-4ece-cc6b-c1e90670bc2b",
        "colab": {
          "base_uri": "https://localhost:8080/",
          "height": 34
        }
      },
      "cell_type": "code",
      "source": [
        "!dir drive/MyPython"
      ],
      "execution_count": 7,
      "outputs": [
        {
          "output_type": "stream",
          "text": [
            "Cat  PUBG  PythonDataScienceHandbook-master  Trade\\ AI\n"
          ],
          "name": "stdout"
        }
      ]
    },
    {
      "metadata": {
        "id": "Ko2WeNVJQeYG",
        "colab_type": "code",
        "colab": {}
      },
      "cell_type": "code",
      "source": [
        "stock = pd.read_csv('drive/MyPython/Trade AI/data/SHSE.600519_20181217_end.txt', header=None)"
      ],
      "execution_count": 0,
      "outputs": []
    },
    {
      "metadata": {
        "id": "ILVCb5GRQeYh",
        "colab_type": "code",
        "colab": {}
      },
      "cell_type": "code",
      "source": [
        "stock.columns = ['symbol', 'date', 'time', 'open', 'high', 'low', 'close', 'volume']"
      ],
      "execution_count": 0,
      "outputs": []
    },
    {
      "metadata": {
        "id": "5INueVJcQeZU",
        "colab_type": "code",
        "colab": {}
      },
      "cell_type": "code",
      "source": [
        "stock_drop = stock.drop(['date', 'time', 'symbol'], axis=1)"
      ],
      "execution_count": 0,
      "outputs": []
    },
    {
      "metadata": {
        "id": "0uBrV3TTQeY5",
        "colab_type": "code",
        "colab": {}
      },
      "cell_type": "code",
      "source": [
        "stock['datetime'] = pd.to_datetime(stock['date']+' '+stock['time'], format='%Y-%m-%d %H:%M:%S')\n"
      ],
      "execution_count": 0,
      "outputs": []
    },
    {
      "metadata": {
        "id": "eF6ZI4xEiKA3",
        "colab_type": "code",
        "colab": {}
      },
      "cell_type": "code",
      "source": [
        "stock_drop = stock.drop(['date', 'time', 'symbol'], axis=1)"
      ],
      "execution_count": 0,
      "outputs": []
    },
    {
      "metadata": {
        "id": "Q6v0-JzTQeZ5",
        "colab_type": "code",
        "outputId": "af4c0976-b4c9-4cff-941e-ca91793fcb22",
        "colab": {
          "base_uri": "https://localhost:8080/",
          "height": 203
        }
      },
      "cell_type": "code",
      "source": [
        "stock_drop.head(5)"
      ],
      "execution_count": 13,
      "outputs": [
        {
          "output_type": "execute_result",
          "data": {
            "text/html": [
              "<div>\n",
              "<style scoped>\n",
              "    .dataframe tbody tr th:only-of-type {\n",
              "        vertical-align: middle;\n",
              "    }\n",
              "\n",
              "    .dataframe tbody tr th {\n",
              "        vertical-align: top;\n",
              "    }\n",
              "\n",
              "    .dataframe thead th {\n",
              "        text-align: right;\n",
              "    }\n",
              "</style>\n",
              "<table border=\"1\" class=\"dataframe\">\n",
              "  <thead>\n",
              "    <tr style=\"text-align: right;\">\n",
              "      <th></th>\n",
              "      <th>open</th>\n",
              "      <th>high</th>\n",
              "      <th>low</th>\n",
              "      <th>close</th>\n",
              "      <th>volume</th>\n",
              "      <th>datetime</th>\n",
              "    </tr>\n",
              "  </thead>\n",
              "  <tbody>\n",
              "    <tr>\n",
              "      <th>0</th>\n",
              "      <td>198.779999</td>\n",
              "      <td>198.800003</td>\n",
              "      <td>197.050003</td>\n",
              "      <td>198.619995</td>\n",
              "      <td>277070.0</td>\n",
              "      <td>2015-10-08 09:31:00</td>\n",
              "    </tr>\n",
              "    <tr>\n",
              "      <th>1</th>\n",
              "      <td>198.639999</td>\n",
              "      <td>199.190002</td>\n",
              "      <td>198.639999</td>\n",
              "      <td>199.190002</td>\n",
              "      <td>143324.0</td>\n",
              "      <td>2015-10-08 09:32:00</td>\n",
              "    </tr>\n",
              "    <tr>\n",
              "      <th>2</th>\n",
              "      <td>199.199997</td>\n",
              "      <td>200.479996</td>\n",
              "      <td>199.199997</td>\n",
              "      <td>200.479996</td>\n",
              "      <td>103269.0</td>\n",
              "      <td>2015-10-08 09:33:00</td>\n",
              "    </tr>\n",
              "    <tr>\n",
              "      <th>3</th>\n",
              "      <td>200.500000</td>\n",
              "      <td>201.100006</td>\n",
              "      <td>200.500000</td>\n",
              "      <td>201.100006</td>\n",
              "      <td>120355.0</td>\n",
              "      <td>2015-10-08 09:34:00</td>\n",
              "    </tr>\n",
              "    <tr>\n",
              "      <th>4</th>\n",
              "      <td>201.119995</td>\n",
              "      <td>201.580002</td>\n",
              "      <td>200.600006</td>\n",
              "      <td>201.000000</td>\n",
              "      <td>116100.0</td>\n",
              "      <td>2015-10-08 09:35:00</td>\n",
              "    </tr>\n",
              "  </tbody>\n",
              "</table>\n",
              "</div>"
            ],
            "text/plain": [
              "         open        high         low       close    volume  \\\n",
              "0  198.779999  198.800003  197.050003  198.619995  277070.0   \n",
              "1  198.639999  199.190002  198.639999  199.190002  143324.0   \n",
              "2  199.199997  200.479996  199.199997  200.479996  103269.0   \n",
              "3  200.500000  201.100006  200.500000  201.100006  120355.0   \n",
              "4  201.119995  201.580002  200.600006  201.000000  116100.0   \n",
              "\n",
              "             datetime  \n",
              "0 2015-10-08 09:31:00  \n",
              "1 2015-10-08 09:32:00  \n",
              "2 2015-10-08 09:33:00  \n",
              "3 2015-10-08 09:34:00  \n",
              "4 2015-10-08 09:35:00  "
            ]
          },
          "metadata": {
            "tags": []
          },
          "execution_count": 13
        }
      ]
    },
    {
      "metadata": {
        "id": "CCz0tYb_QeaV",
        "colab_type": "code",
        "colab": {}
      },
      "cell_type": "code",
      "source": [
        "# Set Date-Time as index\n",
        "stock_drop.set_index('datetime', inplace=True)"
      ],
      "execution_count": 0,
      "outputs": []
    },
    {
      "metadata": {
        "id": "LNTC6e-pQeat",
        "colab_type": "code",
        "outputId": "50bd65f4-3caa-4afa-e265-fc7d9c7e862b",
        "colab": {
          "base_uri": "https://localhost:8080/",
          "height": 282
        }
      },
      "cell_type": "code",
      "source": [
        "plt.plot(stock_drop['close'])"
      ],
      "execution_count": 15,
      "outputs": [
        {
          "output_type": "execute_result",
          "data": {
            "text/plain": [
              "[<matplotlib.lines.Line2D at 0x7f3ab8299fd0>]"
            ]
          },
          "metadata": {
            "tags": []
          },
          "execution_count": 15
        },
        {
          "output_type": "display_data",
          "data": {
            "image/png": "[encoded data removed]",
            "text/plain": [
              "<matplotlib.figure.Figure at 0x7f3ab9a77cf8>"
            ]
          },
          "metadata": {
            "tags": []
          }
        }
      ]
    },
    {
      "metadata": {
        "id": "RJJHemtbQebO",
        "colab_type": "code",
        "outputId": "efdeb191-d502-4402-a0f9-7c3e2abbb29f",
        "colab": {
          "base_uri": "https://localhost:8080/",
          "height": 34
        }
      },
      "cell_type": "code",
      "source": [
        "stock_drop.shape"
      ],
      "execution_count": 16,
      "outputs": [
        {
          "output_type": "execute_result",
          "data": {
            "text/plain": [
              "(143239, 5)"
            ]
          },
          "metadata": {
            "tags": []
          },
          "execution_count": 16
        }
      ]
    },
    {
      "metadata": {
        "id": "co-yFk-gQeb3",
        "colab_type": "code",
        "colab": {}
      },
      "cell_type": "code",
      "source": [
        "stock_drop = stock_drop.dropna()"
      ],
      "execution_count": 0,
      "outputs": []
    },
    {
      "metadata": {
        "id": "V1zPuLbAQecP",
        "colab_type": "code",
        "outputId": "02a89ffe-30e1-45f2-8a6e-ab564533f3b1",
        "colab": {
          "base_uri": "https://localhost:8080/",
          "height": 34
        }
      },
      "cell_type": "code",
      "source": [
        "stock_drop.shape"
      ],
      "execution_count": 18,
      "outputs": [
        {
          "output_type": "execute_result",
          "data": {
            "text/plain": [
              "(143239, 5)"
            ]
          },
          "metadata": {
            "tags": []
          },
          "execution_count": 18
        }
      ]
    },
    {
      "metadata": {
        "id": "kBnIMdoDQecw",
        "colab_type": "code",
        "outputId": "b0263622-55b3-4522-d9e7-d5147bd97985",
        "colab": {
          "base_uri": "https://localhost:8080/",
          "height": 388
        }
      },
      "cell_type": "code",
      "source": [
        "stock_drop.head(10)"
      ],
      "execution_count": 19,
      "outputs": [
        {
          "output_type": "execute_result",
          "data": {
            "text/html": [
              "<div>\n",
              "<style scoped>\n",
              "    .dataframe tbody tr th:only-of-type {\n",
              "        vertical-align: middle;\n",
              "    }\n",
              "\n",
              "    .dataframe tbody tr th {\n",
              "        vertical-align: top;\n",
              "    }\n",
              "\n",
              "    .dataframe thead th {\n",
              "        text-align: right;\n",
              "    }\n",
              "</style>\n",
              "<table border=\"1\" class=\"dataframe\">\n",
              "  <thead>\n",
              "    <tr style=\"text-align: right;\">\n",
              "      <th></th>\n",
              "      <th>open</th>\n",
              "      <th>high</th>\n",
              "      <th>low</th>\n",
              "      <th>close</th>\n",
              "      <th>volume</th>\n",
              "    </tr>\n",
              "    <tr>\n",
              "      <th>datetime</th>\n",
              "      <th></th>\n",
              "      <th></th>\n",
              "      <th></th>\n",
              "      <th></th>\n",
              "      <th></th>\n",
              "    </tr>\n",
              "  </thead>\n",
              "  <tbody>\n",
              "    <tr>\n",
              "      <th>2015-10-08 09:31:00</th>\n",
              "      <td>198.779999</td>\n",
              "      <td>198.800003</td>\n",
              "      <td>197.050003</td>\n",
              "      <td>198.619995</td>\n",
              "      <td>277070.0</td>\n",
              "    </tr>\n",
              "    <tr>\n",
              "      <th>2015-10-08 09:32:00</th>\n",
              "      <td>198.639999</td>\n",
              "      <td>199.190002</td>\n",
              "      <td>198.639999</td>\n",
              "      <td>199.190002</td>\n",
              "      <td>143324.0</td>\n",
              "    </tr>\n",
              "    <tr>\n",
              "      <th>2015-10-08 09:33:00</th>\n",
              "      <td>199.199997</td>\n",
              "      <td>200.479996</td>\n",
              "      <td>199.199997</td>\n",
              "      <td>200.479996</td>\n",
              "      <td>103269.0</td>\n",
              "    </tr>\n",
              "    <tr>\n",
              "      <th>2015-10-08 09:34:00</th>\n",
              "      <td>200.500000</td>\n",
              "      <td>201.100006</td>\n",
              "      <td>200.500000</td>\n",
              "      <td>201.100006</td>\n",
              "      <td>120355.0</td>\n",
              "    </tr>\n",
              "    <tr>\n",
              "      <th>2015-10-08 09:35:00</th>\n",
              "      <td>201.119995</td>\n",
              "      <td>201.580002</td>\n",
              "      <td>200.600006</td>\n",
              "      <td>201.000000</td>\n",
              "      <td>116100.0</td>\n",
              "    </tr>\n",
              "    <tr>\n",
              "      <th>2015-10-08 09:36:00</th>\n",
              "      <td>201.000000</td>\n",
              "      <td>201.000000</td>\n",
              "      <td>200.000000</td>\n",
              "      <td>200.000000</td>\n",
              "      <td>66640.0</td>\n",
              "    </tr>\n",
              "    <tr>\n",
              "      <th>2015-10-08 09:37:00</th>\n",
              "      <td>200.000000</td>\n",
              "      <td>200.000000</td>\n",
              "      <td>199.800003</td>\n",
              "      <td>199.800003</td>\n",
              "      <td>34626.0</td>\n",
              "    </tr>\n",
              "    <tr>\n",
              "      <th>2015-10-08 09:38:00</th>\n",
              "      <td>199.619995</td>\n",
              "      <td>199.820007</td>\n",
              "      <td>199.619995</td>\n",
              "      <td>199.660004</td>\n",
              "      <td>51980.0</td>\n",
              "    </tr>\n",
              "    <tr>\n",
              "      <th>2015-10-08 09:39:00</th>\n",
              "      <td>199.660004</td>\n",
              "      <td>199.850006</td>\n",
              "      <td>199.630005</td>\n",
              "      <td>199.820007</td>\n",
              "      <td>38981.0</td>\n",
              "    </tr>\n",
              "    <tr>\n",
              "      <th>2015-10-08 09:40:00</th>\n",
              "      <td>199.820007</td>\n",
              "      <td>199.820007</td>\n",
              "      <td>199.699997</td>\n",
              "      <td>199.699997</td>\n",
              "      <td>76758.0</td>\n",
              "    </tr>\n",
              "  </tbody>\n",
              "</table>\n",
              "</div>"
            ],
            "text/plain": [
              "                           open        high         low       close    volume\n",
              "datetime                                                                     \n",
              "2015-10-08 09:31:00  198.779999  198.800003  197.050003  198.619995  277070.0\n",
              "2015-10-08 09:32:00  198.639999  199.190002  198.639999  199.190002  143324.0\n",
              "2015-10-08 09:33:00  199.199997  200.479996  199.199997  200.479996  103269.0\n",
              "2015-10-08 09:34:00  200.500000  201.100006  200.500000  201.100006  120355.0\n",
              "2015-10-08 09:35:00  201.119995  201.580002  200.600006  201.000000  116100.0\n",
              "2015-10-08 09:36:00  201.000000  201.000000  200.000000  200.000000   66640.0\n",
              "2015-10-08 09:37:00  200.000000  200.000000  199.800003  199.800003   34626.0\n",
              "2015-10-08 09:38:00  199.619995  199.820007  199.619995  199.660004   51980.0\n",
              "2015-10-08 09:39:00  199.660004  199.850006  199.630005  199.820007   38981.0\n",
              "2015-10-08 09:40:00  199.820007  199.820007  199.699997  199.699997   76758.0"
            ]
          },
          "metadata": {
            "tags": []
          },
          "execution_count": 19
        }
      ]
    },
    {
      "metadata": {
        "id": "KH154oOTQedx",
        "colab_type": "text"
      },
      "cell_type": "markdown",
      "source": [
        "### Step 1. Data preprocessing"
      ]
    },
    {
      "metadata": {
        "id": "i5hVL_gpQed9",
        "colab_type": "text"
      },
      "cell_type": "markdown",
      "source": [
        "#### Step 1.1 Scaling data"
      ]
    },
    {
      "metadata": {
        "id": "Q-LCCUE_QeeM",
        "colab_type": "code",
        "colab": {}
      },
      "cell_type": "code",
      "source": [
        "from sklearn import preprocessing"
      ],
      "execution_count": 0,
      "outputs": []
    },
    {
      "metadata": {
        "id": "JXA27eueQefJ",
        "colab_type": "code",
        "colab": {}
      },
      "cell_type": "code",
      "source": [
        "df=stock_drop.values"
      ],
      "execution_count": 0,
      "outputs": []
    },
    {
      "metadata": {
        "id": "MnrpVz-bQefw",
        "colab_type": "code",
        "colab": {}
      },
      "cell_type": "code",
      "source": [
        "def window_data(data, window_size):\n",
        "    X = []\n",
        "    y = []\n",
        "    \n",
        "    i = 0\n",
        "    while (i + window_size) <= len(data) - 1:\n",
        "        now_close = data[i+window_size-1,3] # close price\n",
        "        next_close = data[i+window_size,3] # close price\n",
        "#         print(now_close)\n",
        "        X.append(data[i:i+window_size])\n",
        "        future_return = (next_close-now_close)/now_close\n",
        "        if not now_close:\n",
        "            print('zero divident: ', i)\n",
        "#         print(future_return)\n",
        "        \n",
        "# 分兩類\n",
        "#         if future_return>=0.:\n",
        "#             y.append([0,1])\n",
        "#         else:\n",
        "#             y.append([1,0])\n",
        "\n",
        "\n",
        "# 分三類\n",
        "        BARRIER = 0.00001\n",
        "        if future_return>=BARRIER:\n",
        "            y.append([0,0,1])\n",
        "        elif (future_return<BARRIER) & (future_return>-BARRIER):\n",
        "            y.append([0,1,0])\n",
        "        else:\n",
        "            y.append([1,0,0])      \n",
        "        \n",
        "# 分五類\n",
        "#         if future_return>0.0003:\n",
        "#             y.append([0,0,0,0,1])\n",
        "#         elif (future_return>0.0001) & (future_return<=0.0003):\n",
        "#             y.append([0,0,0,1,0])\n",
        "#         elif (future_return>=-0.0001) & (future_return<=0.0001):\n",
        "#             y.append([0,0,1,0,0])\n",
        "#         elif (future_return>=-0.0003) & (future_return<-0.0001):\n",
        "#             y.append([0,1,0,0,0])\n",
        "#         else:\n",
        "#             y.append([1,0,0,0,0])\n",
        "        \n",
        "# 分九類\n",
        "#         if future_return>0.0003:\n",
        "#             y.append([0,0,0,0,0,0,0,0,1])\n",
        "#         elif (future_return>0.00015) & (future_return<=0.0003):\n",
        "#             y.append([0,0,0,0,0,0,0,1,0])\n",
        "#         elif (future_return>0.00005) & (future_return<=0.00015):\n",
        "#             y.append([0,0,0,0,0,0,1,0,0])\n",
        "#         elif (future_return>0) & (future_return<=0.00005):\n",
        "#             y.append([0,0,0,0,0,1,0,0,0])\n",
        "#         elif future_return==0:\n",
        "#             y.append([0,0,0,0,1,0,0,0,0])\n",
        "#         elif (future_return>-0.00005) & (future_return<0):\n",
        "#             y.append([0,0,0,1,0,0,0,0,0])\n",
        "#         elif (future_return>-0.00015) & (future_return<=-0.00005):\n",
        "#             y.append([0,0,1,0,0,0,0,0,0])\n",
        "#         elif (future_return>-0.0003) & (future_return<=-0.00015):\n",
        "#             y.append([0,1,0,0,0,0,0,0,0])\n",
        "#         else:\n",
        "#             y.append([1,0,0,0,0,0,0,0,0])\n",
        "        \n",
        "        i += 1\n",
        "    assert len(X) ==  len(y)\n",
        "    return X, y"
      ],
      "execution_count": 0,
      "outputs": []
    },
    {
      "metadata": {
        "id": "h_TxY9oWQegC",
        "colab_type": "text"
      },
      "cell_type": "markdown",
      "source": [
        "#### Step 1.2 Windowing the dataset"
      ]
    },
    {
      "metadata": {
        "id": "sxFRgV50QegL",
        "colab_type": "code",
        "colab": {}
      },
      "cell_type": "code",
      "source": [
        "window_size = 15"
      ],
      "execution_count": 0,
      "outputs": []
    },
    {
      "metadata": {
        "id": "8yRifnelQegj",
        "colab_type": "code",
        "colab": {}
      },
      "cell_type": "code",
      "source": [
        "X, y = window_data(df, window_size)"
      ],
      "execution_count": 0,
      "outputs": []
    },
    {
      "metadata": {
        "id": "kRfiERz7Qeg2",
        "colab_type": "code",
        "outputId": "5719e02c-2b9a-4d70-e4d5-c5518abcadc8",
        "colab": {
          "base_uri": "https://localhost:8080/",
          "height": 34
        }
      },
      "cell_type": "code",
      "source": [
        "len(X), len(y)"
      ],
      "execution_count": 25,
      "outputs": [
        {
          "output_type": "execute_result",
          "data": {
            "text/plain": [
              "(143224, 143224)"
            ]
          },
          "metadata": {
            "tags": []
          },
          "execution_count": 25
        }
      ]
    },
    {
      "metadata": {
        "id": "7LC8gqgxQehb",
        "colab_type": "text"
      },
      "cell_type": "markdown",
      "source": [
        "#### Step 1.3 Creating Training and Testing sets"
      ]
    },
    {
      "metadata": {
        "id": "gTzGW9msQehn",
        "colab_type": "code",
        "colab": {}
      },
      "cell_type": "code",
      "source": [
        "num_train = 96000"
      ],
      "execution_count": 0,
      "outputs": []
    },
    {
      "metadata": {
        "id": "QcU6FoSbQeh8",
        "colab_type": "code",
        "outputId": "0218f00f-a894-4bfd-ff91-99417849a8d5",
        "colab": {
          "base_uri": "https://localhost:8080/",
          "height": 86
        }
      },
      "cell_type": "code",
      "source": [
        "X_train  = np.array(X[:num_train])\n",
        "y_train = np.array(y[:num_train])\n",
        "\n",
        "X_test = np.array(X[num_train:])\n",
        "y_test = np.array(y[num_train:])\n",
        "\n",
        "print(\"X_train size: {}\".format(X_train.shape))\n",
        "print(\"y_train size: {}\".format(y_train.shape))\n",
        "print(\"X_test size: {}\".format(X_test.shape))\n",
        "print(\"y_test size: {}\".format(y_test.shape))"
      ],
      "execution_count": 27,
      "outputs": [
        {
          "output_type": "stream",
          "text": [
            "X_train size: (96000, 15, 5)\n",
            "y_train size: (96000, 3)\n",
            "X_test size: (47224, 15, 5)\n",
            "y_test size: (47224, 3)\n"
          ],
          "name": "stdout"
        }
      ]
    },
    {
      "metadata": {
        "id": "0V5kIj7OQeiZ",
        "colab_type": "text"
      },
      "cell_type": "markdown",
      "source": [
        "### Let's create the RNN"
      ]
    },
    {
      "metadata": {
        "id": "5r79z0lxQeib",
        "colab_type": "code",
        "colab": {}
      },
      "cell_type": "code",
      "source": [
        "epochs = 10\n",
        "batch_size = 256\n",
        "num_classes = 3\n",
        "feature_size = 5"
      ],
      "execution_count": 0,
      "outputs": []
    },
    {
      "metadata": {
        "id": "PoBCb2T8Qeiv",
        "colab_type": "code",
        "colab": {}
      },
      "cell_type": "code",
      "source": [
        "def get_a_cell(lstm_size, keep_prob):\n",
        "    lstm = tf.nn.rnn_cell.BasicLSTMCell(lstm_size)\n",
        "    drop = tf.nn.rnn_cell.DropoutWrapper(lstm, output_keep_prob=keep_prob)\n",
        "    return drop\n",
        "\n",
        "def multi_LSTM_cell(hidden_layer_size, batch_size, number_of_layers, dropout, dropout_rate):\n",
        "    cell = tf.nn.rnn_cell.MultiRNNCell(\n",
        "              [get_a_cell(hidden_layer_size, dropout_rate) for _ in range(number_of_layers)])\n",
        "    init_state = cell.zero_state(batch_size, tf.float32)\n",
        "    return cell, init_state"
      ],
      "execution_count": 0,
      "outputs": []
    },
    {
      "metadata": {
        "id": "PEwH-bK3QejH",
        "colab_type": "code",
        "colab": {}
      },
      "cell_type": "code",
      "source": [
        "def output_layer(lstm_output, in_size, out_size):\n",
        "    \n",
        "    x = lstm_output[:, -1, :]\n",
        "    print(x)\n",
        "    weights = tf.Variable(tf.truncated_normal([in_size, out_size], stddev=0.05), name='output_layer_weights')\n",
        "    bias = tf.Variable(tf.zeros([out_size]), name='output_layer_bias')\n",
        "    \n",
        "    output = tf.matmul(x, weights) + bias\n",
        "    return output"
      ],
      "execution_count": 0,
      "outputs": []
    },
    {
      "metadata": {
        "id": "K1K1eXUCQejd",
        "colab_type": "code",
        "colab": {}
      },
      "cell_type": "code",
      "source": [
        "def opt_loss(logits, targets, learning_rate, grad_clip_margin):\n",
        "    # original loss define\n",
        "    losses = []\n",
        "    for i in range(targets.get_shape()[0]):         \n",
        "        print([(tf.pow(logits[i] - targets[i], 2))])\n",
        "        losses.append([(tf.pow(logits[i] - targets[i], 2))])\n",
        "        \n",
        "    loss = tf.reduce_sum(losses)/(2*batch_size)\n",
        "    \n",
        "    #cross entropy define\n",
        "    loss = tf.reduce_mean(tf.nn.softmax_cross_entropy_with_logits(logits=logits, labels=targets))\n",
        "    #Cliping the gradient loss\n",
        "    gradients = tf.gradients(loss, tf.trainable_variables())\n",
        "    clipper_, _ = tf.clip_by_global_norm(gradients, grad_clip_margin)\n",
        "    optimizer = tf.train.AdamOptimizer(learning_rate)\n",
        "    train_optimizer = optimizer.apply_gradients(zip(clipper_, tf.trainable_variables()))\n",
        "    return loss, train_optimizer"
      ],
      "execution_count": 0,
      "outputs": []
    },
    {
      "metadata": {
        "id": "MdbBrOiCQej0",
        "colab_type": "code",
        "colab": {}
      },
      "cell_type": "code",
      "source": [
        ""
      ],
      "execution_count": 0,
      "outputs": []
    },
    {
      "metadata": {
        "id": "9iWlqLBKQekL",
        "colab_type": "code",
        "colab": {}
      },
      "cell_type": "code",
      "source": [
        "# a = np.array([5,0,0])\n",
        "# b = np.array([1,0,0])\n",
        "# c = tf.pow(a - b, 2)\n",
        "# with tf.Session() as sess:\n",
        "#     print(sess.run(c))\n",
        "# d = tf.reduce_sum(c)"
      ],
      "execution_count": 0,
      "outputs": []
    },
    {
      "metadata": {
        "id": "aca7yXj2QekZ",
        "colab_type": "code",
        "colab": {}
      },
      "cell_type": "code",
      "source": [
        "class StockPredictionRNN(object):\n",
        "    \n",
        "    def __init__(self, learning_rate=0.01, batch_size=batch_size, hidden_layer_size=64, number_of_layers=6, \n",
        "                 dropout=True, dropout_rate=0.2, number_of_classes=num_classes, gradient_clip_margin=4, window_size=window_size):\n",
        "    \n",
        "        self.inputs = tf.placeholder(tf.float32, [batch_size, window_size, feature_size], name='input_data')\n",
        "        self.targets = tf.placeholder(tf.float32, [batch_size, num_classes], name='targets')\n",
        "\n",
        "        cell, init_state = multi_LSTM_cell(hidden_layer_size, batch_size, number_of_layers, dropout, dropout_rate)\n",
        "\n",
        "        outputs, states = tf.nn.dynamic_rnn(cell, self.inputs, initial_state=init_state)\n",
        "\n",
        "        self.logits = output_layer(outputs, hidden_layer_size, number_of_classes)\n",
        "        self.prob = tf.nn.softmax(self.logits)\n",
        "\n",
        "        self.loss, self.opt = opt_loss(self.logits, self.targets, learning_rate, gradient_clip_margin)"
      ],
      "execution_count": 0,
      "outputs": []
    },
    {
      "metadata": {
        "id": "yVN7eLicQeky",
        "colab_type": "code",
        "outputId": "d8ef80a8-2248-488d-f66c-dd7392875dc4",
        "colab": {
          "base_uri": "https://localhost:8080/",
          "height": 4666
        }
      },
      "cell_type": "code",
      "source": [
        "tf.reset_default_graph()\n",
        "model = StockPredictionRNN()"
      ],
      "execution_count": 35,
      "outputs": [
        {
          "output_type": "stream",
          "text": [
            "WARNING:tensorflow:From <ipython-input-29-0db075af317c>:2: BasicLSTMCell.__init__ (from tensorflow.python.ops.rnn_cell_impl) is deprecated and will be removed in a future version.\n",
            "Instructions for updating:\n",
            "This class is deprecated, please use tf.nn.rnn_cell.LSTMCell, which supports all the feature this cell currently has. Please replace the existing code with tf.nn.rnn_cell.LSTMCell(name='basic_lstm_cell').\n",
            "Tensor(\"strided_slice:0\", shape=(256, 64), dtype=float32)\n",
            "[<tf.Tensor 'Pow:0' shape=(3,) dtype=float32>]\n",
            "[<tf.Tensor 'Pow_2:0' shape=(3,) dtype=float32>]\n",
            "[<tf.Tensor 'Pow_4:0' shape=(3,) dtype=float32>]\n",
            "[<tf.Tensor 'Pow_6:0' shape=(3,) dtype=float32>]\n",
            "[<tf.Tensor 'Pow_8:0' shape=(3,) dtype=float32>]\n",
            "[<tf.Tensor 'Pow_10:0' shape=(3,) dtype=float32>]\n",
            "[<tf.Tensor 'Pow_12:0' shape=(3,) dtype=float32>]\n",
            "[<tf.Tensor 'Pow_14:0' shape=(3,) dtype=float32>]\n",
            "[<tf.Tensor 'Pow_16:0' shape=(3,) dtype=float32>]\n",
            "[<tf.Tensor 'Pow_18:0' shape=(3,) dtype=float32>]\n",
            "[<tf.Tensor 'Pow_20:0' shape=(3,) dtype=float32>]\n",
            "[<tf.Tensor 'Pow_22:0' shape=(3,) dtype=float32>]\n",
            "[<tf.Tensor 'Pow_24:0' shape=(3,) dtype=float32>]\n",
            "[<tf.Tensor 'Pow_26:0' shape=(3,) dtype=float32>]\n",
            "[<tf.Tensor 'Pow_28:0' shape=(3,) dtype=float32>]\n",
            "[<tf.Tensor 'Pow_30:0' shape=(3,) dtype=float32>]\n",
            "[<tf.Tensor 'Pow_32:0' shape=(3,) dtype=float32>]\n",
            "[<tf.Tensor 'Pow_34:0' shape=(3,) dtype=float32>]\n",
            "[<tf.Tensor 'Pow_36:0' shape=(3,) dtype=float32>]\n",
            "[<tf.Tensor 'Pow_38:0' shape=(3,) dtype=float32>]\n",
            "[<tf.Tensor 'Pow_40:0' shape=(3,) dtype=float32>]\n",
            "[<tf.Tensor 'Pow_42:0' shape=(3,) dtype=float32>]\n",
            "[<tf.Tensor 'Pow_44:0' shape=(3,) dtype=float32>]\n",
            "[<tf.Tensor 'Pow_46:0' shape=(3,) dtype=float32>]\n",
            "[<tf.Tensor 'Pow_48:0' shape=(3,) dtype=float32>]\n",
            "[<tf.Tensor 'Pow_50:0' shape=(3,) dtype=float32>]\n",
            "[<tf.Tensor 'Pow_52:0' shape=(3,) dtype=float32>]\n",
            "[<tf.Tensor 'Pow_54:0' shape=(3,) dtype=float32>]\n",
            "[<tf.Tensor 'Pow_56:0' shape=(3,) dtype=float32>]\n",
            "[<tf.Tensor 'Pow_58:0' shape=(3,) dtype=float32>]\n",
            "[<tf.Tensor 'Pow_60:0' shape=(3,) dtype=float32>]\n",
            "[<tf.Tensor 'Pow_62:0' shape=(3,) dtype=float32>]\n",
            "[<tf.Tensor 'Pow_64:0' shape=(3,) dtype=float32>]\n",
            "[<tf.Tensor 'Pow_66:0' shape=(3,) dtype=float32>]\n",
            "[<tf.Tensor 'Pow_68:0' shape=(3,) dtype=float32>]\n",
            "[<tf.Tensor 'Pow_70:0' shape=(3,) dtype=float32>]\n",
            "[<tf.Tensor 'Pow_72:0' shape=(3,) dtype=float32>]\n",
            "[<tf.Tensor 'Pow_74:0' shape=(3,) dtype=float32>]\n",
            "[<tf.Tensor 'Pow_76:0' shape=(3,) dtype=float32>]\n",
            "[<tf.Tensor 'Pow_78:0' shape=(3,) dtype=float32>]\n",
            "[<tf.Tensor 'Pow_80:0' shape=(3,) dtype=float32>]\n",
            "[<tf.Tensor 'Pow_82:0' shape=(3,) dtype=float32>]\n",
            "[<tf.Tensor 'Pow_84:0' shape=(3,) dtype=float32>]\n",
            "[<tf.Tensor 'Pow_86:0' shape=(3,) dtype=float32>]\n",
            "[<tf.Tensor 'Pow_88:0' shape=(3,) dtype=float32>]\n",
            "[<tf.Tensor 'Pow_90:0' shape=(3,) dtype=float32>]\n",
            "[<tf.Tensor 'Pow_92:0' shape=(3,) dtype=float32>]\n",
            "[<tf.Tensor 'Pow_94:0' shape=(3,) dtype=float32>]\n",
            "[<tf.Tensor 'Pow_96:0' shape=(3,) dtype=float32>]\n",
            "[<tf.Tensor 'Pow_98:0' shape=(3,) dtype=float32>]\n",
            "[<tf.Tensor 'Pow_100:0' shape=(3,) dtype=float32>]\n",
            "[<tf.Tensor 'Pow_102:0' shape=(3,) dtype=float32>]\n",
            "[<tf.Tensor 'Pow_104:0' shape=(3,) dtype=float32>]\n",
            "[<tf.Tensor 'Pow_106:0' shape=(3,) dtype=float32>]\n",
            "[<tf.Tensor 'Pow_108:0' shape=(3,) dtype=float32>]\n",
            "[<tf.Tensor 'Pow_110:0' shape=(3,) dtype=float32>]\n",
            "[<tf.Tensor 'Pow_112:0' shape=(3,) dtype=float32>]\n",
            "[<tf.Tensor 'Pow_114:0' shape=(3,) dtype=float32>]\n",
            "[<tf.Tensor 'Pow_116:0' shape=(3,) dtype=float32>]\n",
            "[<tf.Tensor 'Pow_118:0' shape=(3,) dtype=float32>]\n",
            "[<tf.Tensor 'Pow_120:0' shape=(3,) dtype=float32>]\n",
            "[<tf.Tensor 'Pow_122:0' shape=(3,) dtype=float32>]\n",
            "[<tf.Tensor 'Pow_124:0' shape=(3,) dtype=float32>]\n",
            "[<tf.Tensor 'Pow_126:0' shape=(3,) dtype=float32>]\n",
            "[<tf.Tensor 'Pow_128:0' shape=(3,) dtype=float32>]\n",
            "[<tf.Tensor 'Pow_130:0' shape=(3,) dtype=float32>]\n",
            "[<tf.Tensor 'Pow_132:0' shape=(3,) dtype=float32>]\n",
            "[<tf.Tensor 'Pow_134:0' shape=(3,) dtype=float32>]\n",
            "[<tf.Tensor 'Pow_136:0' shape=(3,) dtype=float32>]\n",
            "[<tf.Tensor 'Pow_138:0' shape=(3,) dtype=float32>]\n",
            "[<tf.Tensor 'Pow_140:0' shape=(3,) dtype=float32>]\n",
            "[<tf.Tensor 'Pow_142:0' shape=(3,) dtype=float32>]\n",
            "[<tf.Tensor 'Pow_144:0' shape=(3,) dtype=float32>]\n",
            "[<tf.Tensor 'Pow_146:0' shape=(3,) dtype=float32>]\n",
            "[<tf.Tensor 'Pow_148:0' shape=(3,) dtype=float32>]\n",
            "[<tf.Tensor 'Pow_150:0' shape=(3,) dtype=float32>]\n",
            "[<tf.Tensor 'Pow_152:0' shape=(3,) dtype=float32>]\n",
            "[<tf.Tensor 'Pow_154:0' shape=(3,) dtype=float32>]\n",
            "[<tf.Tensor 'Pow_156:0' shape=(3,) dtype=float32>]\n",
            "[<tf.Tensor 'Pow_158:0' shape=(3,) dtype=float32>]\n",
            "[<tf.Tensor 'Pow_160:0' shape=(3,) dtype=float32>]\n",
            "[<tf.Tensor 'Pow_162:0' shape=(3,) dtype=float32>]\n",
            "[<tf.Tensor 'Pow_164:0' shape=(3,) dtype=float32>]\n",
            "[<tf.Tensor 'Pow_166:0' shape=(3,) dtype=float32>]\n",
            "[<tf.Tensor 'Pow_168:0' shape=(3,) dtype=float32>]\n",
            "[<tf.Tensor 'Pow_170:0' shape=(3,) dtype=float32>]\n",
            "[<tf.Tensor 'Pow_172:0' shape=(3,) dtype=float32>]\n",
            "[<tf.Tensor 'Pow_174:0' shape=(3,) dtype=float32>]\n",
            "[<tf.Tensor 'Pow_176:0' shape=(3,) dtype=float32>]\n",
            "[<tf.Tensor 'Pow_178:0' shape=(3,) dtype=float32>]\n",
            "[<tf.Tensor 'Pow_180:0' shape=(3,) dtype=float32>]\n",
            "[<tf.Tensor 'Pow_182:0' shape=(3,) dtype=float32>]\n",
            "[<tf.Tensor 'Pow_184:0' shape=(3,) dtype=float32>]\n",
            "[<tf.Tensor 'Pow_186:0' shape=(3,) dtype=float32>]\n",
            "[<tf.Tensor 'Pow_188:0' shape=(3,) dtype=float32>]\n",
            "[<tf.Tensor 'Pow_190:0' shape=(3,) dtype=float32>]\n",
            "[<tf.Tensor 'Pow_192:0' shape=(3,) dtype=float32>]\n",
            "[<tf.Tensor 'Pow_194:0' shape=(3,) dtype=float32>]\n",
            "[<tf.Tensor 'Pow_196:0' shape=(3,) dtype=float32>]\n",
            "[<tf.Tensor 'Pow_198:0' shape=(3,) dtype=float32>]\n",
            "[<tf.Tensor 'Pow_200:0' shape=(3,) dtype=float32>]\n",
            "[<tf.Tensor 'Pow_202:0' shape=(3,) dtype=float32>]\n",
            "[<tf.Tensor 'Pow_204:0' shape=(3,) dtype=float32>]\n",
            "[<tf.Tensor 'Pow_206:0' shape=(3,) dtype=float32>]\n",
            "[<tf.Tensor 'Pow_208:0' shape=(3,) dtype=float32>]\n",
            "[<tf.Tensor 'Pow_210:0' shape=(3,) dtype=float32>]\n",
            "[<tf.Tensor 'Pow_212:0' shape=(3,) dtype=float32>]\n",
            "[<tf.Tensor 'Pow_214:0' shape=(3,) dtype=float32>]\n",
            "[<tf.Tensor 'Pow_216:0' shape=(3,) dtype=float32>]\n",
            "[<tf.Tensor 'Pow_218:0' shape=(3,) dtype=float32>]\n",
            "[<tf.Tensor 'Pow_220:0' shape=(3,) dtype=float32>]\n",
            "[<tf.Tensor 'Pow_222:0' shape=(3,) dtype=float32>]\n",
            "[<tf.Tensor 'Pow_224:0' shape=(3,) dtype=float32>]\n",
            "[<tf.Tensor 'Pow_226:0' shape=(3,) dtype=float32>]\n",
            "[<tf.Tensor 'Pow_228:0' shape=(3,) dtype=float32>]\n",
            "[<tf.Tensor 'Pow_230:0' shape=(3,) dtype=float32>]\n",
            "[<tf.Tensor 'Pow_232:0' shape=(3,) dtype=float32>]\n",
            "[<tf.Tensor 'Pow_234:0' shape=(3,) dtype=float32>]\n",
            "[<tf.Tensor 'Pow_236:0' shape=(3,) dtype=float32>]\n",
            "[<tf.Tensor 'Pow_238:0' shape=(3,) dtype=float32>]\n",
            "[<tf.Tensor 'Pow_240:0' shape=(3,) dtype=float32>]\n",
            "[<tf.Tensor 'Pow_242:0' shape=(3,) dtype=float32>]\n",
            "[<tf.Tensor 'Pow_244:0' shape=(3,) dtype=float32>]\n",
            "[<tf.Tensor 'Pow_246:0' shape=(3,) dtype=float32>]\n",
            "[<tf.Tensor 'Pow_248:0' shape=(3,) dtype=float32>]\n",
            "[<tf.Tensor 'Pow_250:0' shape=(3,) dtype=float32>]\n",
            "[<tf.Tensor 'Pow_252:0' shape=(3,) dtype=float32>]\n",
            "[<tf.Tensor 'Pow_254:0' shape=(3,) dtype=float32>]\n",
            "[<tf.Tensor 'Pow_256:0' shape=(3,) dtype=float32>]\n",
            "[<tf.Tensor 'Pow_258:0' shape=(3,) dtype=float32>]\n",
            "[<tf.Tensor 'Pow_260:0' shape=(3,) dtype=float32>]\n",
            "[<tf.Tensor 'Pow_262:0' shape=(3,) dtype=float32>]\n",
            "[<tf.Tensor 'Pow_264:0' shape=(3,) dtype=float32>]\n",
            "[<tf.Tensor 'Pow_266:0' shape=(3,) dtype=float32>]\n",
            "[<tf.Tensor 'Pow_268:0' shape=(3,) dtype=float32>]\n",
            "[<tf.Tensor 'Pow_270:0' shape=(3,) dtype=float32>]\n",
            "[<tf.Tensor 'Pow_272:0' shape=(3,) dtype=float32>]\n",
            "[<tf.Tensor 'Pow_274:0' shape=(3,) dtype=float32>]\n",
            "[<tf.Tensor 'Pow_276:0' shape=(3,) dtype=float32>]\n",
            "[<tf.Tensor 'Pow_278:0' shape=(3,) dtype=float32>]\n",
            "[<tf.Tensor 'Pow_280:0' shape=(3,) dtype=float32>]\n",
            "[<tf.Tensor 'Pow_282:0' shape=(3,) dtype=float32>]\n",
            "[<tf.Tensor 'Pow_284:0' shape=(3,) dtype=float32>]\n",
            "[<tf.Tensor 'Pow_286:0' shape=(3,) dtype=float32>]\n",
            "[<tf.Tensor 'Pow_288:0' shape=(3,) dtype=float32>]\n",
            "[<tf.Tensor 'Pow_290:0' shape=(3,) dtype=float32>]\n",
            "[<tf.Tensor 'Pow_292:0' shape=(3,) dtype=float32>]\n",
            "[<tf.Tensor 'Pow_294:0' shape=(3,) dtype=float32>]\n",
            "[<tf.Tensor 'Pow_296:0' shape=(3,) dtype=float32>]\n",
            "[<tf.Tensor 'Pow_298:0' shape=(3,) dtype=float32>]\n",
            "[<tf.Tensor 'Pow_300:0' shape=(3,) dtype=float32>]\n",
            "[<tf.Tensor 'Pow_302:0' shape=(3,) dtype=float32>]\n",
            "[<tf.Tensor 'Pow_304:0' shape=(3,) dtype=float32>]\n",
            "[<tf.Tensor 'Pow_306:0' shape=(3,) dtype=float32>]\n",
            "[<tf.Tensor 'Pow_308:0' shape=(3,) dtype=float32>]\n",
            "[<tf.Tensor 'Pow_310:0' shape=(3,) dtype=float32>]\n",
            "[<tf.Tensor 'Pow_312:0' shape=(3,) dtype=float32>]\n",
            "[<tf.Tensor 'Pow_314:0' shape=(3,) dtype=float32>]\n",
            "[<tf.Tensor 'Pow_316:0' shape=(3,) dtype=float32>]\n",
            "[<tf.Tensor 'Pow_318:0' shape=(3,) dtype=float32>]\n",
            "[<tf.Tensor 'Pow_320:0' shape=(3,) dtype=float32>]\n",
            "[<tf.Tensor 'Pow_322:0' shape=(3,) dtype=float32>]\n",
            "[<tf.Tensor 'Pow_324:0' shape=(3,) dtype=float32>]\n",
            "[<tf.Tensor 'Pow_326:0' shape=(3,) dtype=float32>]\n",
            "[<tf.Tensor 'Pow_328:0' shape=(3,) dtype=float32>]\n",
            "[<tf.Tensor 'Pow_330:0' shape=(3,) dtype=float32>]\n",
            "[<tf.Tensor 'Pow_332:0' shape=(3,) dtype=float32>]\n",
            "[<tf.Tensor 'Pow_334:0' shape=(3,) dtype=float32>]\n",
            "[<tf.Tensor 'Pow_336:0' shape=(3,) dtype=float32>]\n",
            "[<tf.Tensor 'Pow_338:0' shape=(3,) dtype=float32>]\n",
            "[<tf.Tensor 'Pow_340:0' shape=(3,) dtype=float32>]\n",
            "[<tf.Tensor 'Pow_342:0' shape=(3,) dtype=float32>]\n",
            "[<tf.Tensor 'Pow_344:0' shape=(3,) dtype=float32>]\n",
            "[<tf.Tensor 'Pow_346:0' shape=(3,) dtype=float32>]\n",
            "[<tf.Tensor 'Pow_348:0' shape=(3,) dtype=float32>]\n",
            "[<tf.Tensor 'Pow_350:0' shape=(3,) dtype=float32>]\n",
            "[<tf.Tensor 'Pow_352:0' shape=(3,) dtype=float32>]\n",
            "[<tf.Tensor 'Pow_354:0' shape=(3,) dtype=float32>]\n",
            "[<tf.Tensor 'Pow_356:0' shape=(3,) dtype=float32>]\n",
            "[<tf.Tensor 'Pow_358:0' shape=(3,) dtype=float32>]\n",
            "[<tf.Tensor 'Pow_360:0' shape=(3,) dtype=float32>]\n",
            "[<tf.Tensor 'Pow_362:0' shape=(3,) dtype=float32>]\n",
            "[<tf.Tensor 'Pow_364:0' shape=(3,) dtype=float32>]\n",
            "[<tf.Tensor 'Pow_366:0' shape=(3,) dtype=float32>]\n",
            "[<tf.Tensor 'Pow_368:0' shape=(3,) dtype=float32>]\n",
            "[<tf.Tensor 'Pow_370:0' shape=(3,) dtype=float32>]\n",
            "[<tf.Tensor 'Pow_372:0' shape=(3,) dtype=float32>]\n",
            "[<tf.Tensor 'Pow_374:0' shape=(3,) dtype=float32>]\n",
            "[<tf.Tensor 'Pow_376:0' shape=(3,) dtype=float32>]\n",
            "[<tf.Tensor 'Pow_378:0' shape=(3,) dtype=float32>]\n",
            "[<tf.Tensor 'Pow_380:0' shape=(3,) dtype=float32>]\n",
            "[<tf.Tensor 'Pow_382:0' shape=(3,) dtype=float32>]\n",
            "[<tf.Tensor 'Pow_384:0' shape=(3,) dtype=float32>]\n",
            "[<tf.Tensor 'Pow_386:0' shape=(3,) dtype=float32>]\n",
            "[<tf.Tensor 'Pow_388:0' shape=(3,) dtype=float32>]\n",
            "[<tf.Tensor 'Pow_390:0' shape=(3,) dtype=float32>]\n",
            "[<tf.Tensor 'Pow_392:0' shape=(3,) dtype=float32>]\n",
            "[<tf.Tensor 'Pow_394:0' shape=(3,) dtype=float32>]\n",
            "[<tf.Tensor 'Pow_396:0' shape=(3,) dtype=float32>]\n",
            "[<tf.Tensor 'Pow_398:0' shape=(3,) dtype=float32>]\n",
            "[<tf.Tensor 'Pow_400:0' shape=(3,) dtype=float32>]\n",
            "[<tf.Tensor 'Pow_402:0' shape=(3,) dtype=float32>]\n",
            "[<tf.Tensor 'Pow_404:0' shape=(3,) dtype=float32>]\n",
            "[<tf.Tensor 'Pow_406:0' shape=(3,) dtype=float32>]\n",
            "[<tf.Tensor 'Pow_408:0' shape=(3,) dtype=float32>]\n",
            "[<tf.Tensor 'Pow_410:0' shape=(3,) dtype=float32>]\n",
            "[<tf.Tensor 'Pow_412:0' shape=(3,) dtype=float32>]\n",
            "[<tf.Tensor 'Pow_414:0' shape=(3,) dtype=float32>]\n",
            "[<tf.Tensor 'Pow_416:0' shape=(3,) dtype=float32>]\n",
            "[<tf.Tensor 'Pow_418:0' shape=(3,) dtype=float32>]\n",
            "[<tf.Tensor 'Pow_420:0' shape=(3,) dtype=float32>]\n",
            "[<tf.Tensor 'Pow_422:0' shape=(3,) dtype=float32>]\n",
            "[<tf.Tensor 'Pow_424:0' shape=(3,) dtype=float32>]\n",
            "[<tf.Tensor 'Pow_426:0' shape=(3,) dtype=float32>]\n",
            "[<tf.Tensor 'Pow_428:0' shape=(3,) dtype=float32>]\n",
            "[<tf.Tensor 'Pow_430:0' shape=(3,) dtype=float32>]\n",
            "[<tf.Tensor 'Pow_432:0' shape=(3,) dtype=float32>]\n",
            "[<tf.Tensor 'Pow_434:0' shape=(3,) dtype=float32>]\n",
            "[<tf.Tensor 'Pow_436:0' shape=(3,) dtype=float32>]\n",
            "[<tf.Tensor 'Pow_438:0' shape=(3,) dtype=float32>]\n",
            "[<tf.Tensor 'Pow_440:0' shape=(3,) dtype=float32>]\n",
            "[<tf.Tensor 'Pow_442:0' shape=(3,) dtype=float32>]\n",
            "[<tf.Tensor 'Pow_444:0' shape=(3,) dtype=float32>]\n",
            "[<tf.Tensor 'Pow_446:0' shape=(3,) dtype=float32>]\n",
            "[<tf.Tensor 'Pow_448:0' shape=(3,) dtype=float32>]\n",
            "[<tf.Tensor 'Pow_450:0' shape=(3,) dtype=float32>]\n",
            "[<tf.Tensor 'Pow_452:0' shape=(3,) dtype=float32>]\n",
            "[<tf.Tensor 'Pow_454:0' shape=(3,) dtype=float32>]\n",
            "[<tf.Tensor 'Pow_456:0' shape=(3,) dtype=float32>]\n",
            "[<tf.Tensor 'Pow_458:0' shape=(3,) dtype=float32>]\n",
            "[<tf.Tensor 'Pow_460:0' shape=(3,) dtype=float32>]\n",
            "[<tf.Tensor 'Pow_462:0' shape=(3,) dtype=float32>]\n",
            "[<tf.Tensor 'Pow_464:0' shape=(3,) dtype=float32>]\n",
            "[<tf.Tensor 'Pow_466:0' shape=(3,) dtype=float32>]\n",
            "[<tf.Tensor 'Pow_468:0' shape=(3,) dtype=float32>]\n",
            "[<tf.Tensor 'Pow_470:0' shape=(3,) dtype=float32>]\n",
            "[<tf.Tensor 'Pow_472:0' shape=(3,) dtype=float32>]\n",
            "[<tf.Tensor 'Pow_474:0' shape=(3,) dtype=float32>]\n",
            "[<tf.Tensor 'Pow_476:0' shape=(3,) dtype=float32>]\n",
            "[<tf.Tensor 'Pow_478:0' shape=(3,) dtype=float32>]\n",
            "[<tf.Tensor 'Pow_480:0' shape=(3,) dtype=float32>]\n",
            "[<tf.Tensor 'Pow_482:0' shape=(3,) dtype=float32>]\n",
            "[<tf.Tensor 'Pow_484:0' shape=(3,) dtype=float32>]\n",
            "[<tf.Tensor 'Pow_486:0' shape=(3,) dtype=float32>]\n",
            "[<tf.Tensor 'Pow_488:0' shape=(3,) dtype=float32>]\n",
            "[<tf.Tensor 'Pow_490:0' shape=(3,) dtype=float32>]\n",
            "[<tf.Tensor 'Pow_492:0' shape=(3,) dtype=float32>]\n",
            "[<tf.Tensor 'Pow_494:0' shape=(3,) dtype=float32>]\n",
            "[<tf.Tensor 'Pow_496:0' shape=(3,) dtype=float32>]\n",
            "[<tf.Tensor 'Pow_498:0' shape=(3,) dtype=float32>]\n",
            "[<tf.Tensor 'Pow_500:0' shape=(3,) dtype=float32>]\n",
            "[<tf.Tensor 'Pow_502:0' shape=(3,) dtype=float32>]\n",
            "[<tf.Tensor 'Pow_504:0' shape=(3,) dtype=float32>]\n",
            "[<tf.Tensor 'Pow_506:0' shape=(3,) dtype=float32>]\n",
            "[<tf.Tensor 'Pow_508:0' shape=(3,) dtype=float32>]\n",
            "[<tf.Tensor 'Pow_510:0' shape=(3,) dtype=float32>]\n",
            "WARNING:tensorflow:From <ipython-input-32-bcfa920c3b68>:11: softmax_cross_entropy_with_logits (from tensorflow.python.ops.nn_ops) is deprecated and will be removed in a future version.\n",
            "Instructions for updating:\n",
            "\n",
            "Future major versions of TensorFlow will allow gradients to flow\n",
            "into the labels input on backprop by default.\n",
            "\n",
            "See `tf.nn.softmax_cross_entropy_with_logits_v2`.\n",
            "\n"
          ],
          "name": "stdout"
        }
      ]
    },
    {
      "metadata": {
        "id": "AaZFYFd9QelP",
        "colab_type": "code",
        "outputId": "decc3e34-5c75-4aed-b8dd-02c8e3da03d3",
        "colab": {
          "base_uri": "https://localhost:8080/",
          "height": 777
        }
      },
      "cell_type": "code",
      "source": [
        "tf.global_variables()"
      ],
      "execution_count": 36,
      "outputs": [
        {
          "output_type": "execute_result",
          "data": {
            "text/plain": [
              "[<tf.Variable 'rnn/multi_rnn_cell/cell_0/basic_lstm_cell/kernel:0' shape=(69, 256) dtype=float32_ref>,\n",
              " <tf.Variable 'rnn/multi_rnn_cell/cell_0/basic_lstm_cell/bias:0' shape=(256,) dtype=float32_ref>,\n",
              " <tf.Variable 'rnn/multi_rnn_cell/cell_1/basic_lstm_cell/kernel:0' shape=(128, 256) dtype=float32_ref>,\n",
              " <tf.Variable 'rnn/multi_rnn_cell/cell_1/basic_lstm_cell/bias:0' shape=(256,) dtype=float32_ref>,\n",
              " <tf.Variable 'rnn/multi_rnn_cell/cell_2/basic_lstm_cell/kernel:0' shape=(128, 256) dtype=float32_ref>,\n",
              " <tf.Variable 'rnn/multi_rnn_cell/cell_2/basic_lstm_cell/bias:0' shape=(256,) dtype=float32_ref>,\n",
              " <tf.Variable 'rnn/multi_rnn_cell/cell_3/basic_lstm_cell/kernel:0' shape=(128, 256) dtype=float32_ref>,\n",
              " <tf.Variable 'rnn/multi_rnn_cell/cell_3/basic_lstm_cell/bias:0' shape=(256,) dtype=float32_ref>,\n",
              " <tf.Variable 'rnn/multi_rnn_cell/cell_4/basic_lstm_cell/kernel:0' shape=(128, 256) dtype=float32_ref>,\n",
              " <tf.Variable 'rnn/multi_rnn_cell/cell_4/basic_lstm_cell/bias:0' shape=(256,) dtype=float32_ref>,\n",
              " <tf.Variable 'rnn/multi_rnn_cell/cell_5/basic_lstm_cell/kernel:0' shape=(128, 256) dtype=float32_ref>,\n",
              " <tf.Variable 'rnn/multi_rnn_cell/cell_5/basic_lstm_cell/bias:0' shape=(256,) dtype=float32_ref>,\n",
              " <tf.Variable 'output_layer_weights:0' shape=(64, 3) dtype=float32_ref>,\n",
              " <tf.Variable 'output_layer_bias:0' shape=(3,) dtype=float32_ref>,\n",
              " <tf.Variable 'beta1_power:0' shape=() dtype=float32_ref>,\n",
              " <tf.Variable 'beta2_power:0' shape=() dtype=float32_ref>,\n",
              " <tf.Variable 'rnn/multi_rnn_cell/cell_0/basic_lstm_cell/kernel/Adam:0' shape=(69, 256) dtype=float32_ref>,\n",
              " <tf.Variable 'rnn/multi_rnn_cell/cell_0/basic_lstm_cell/kernel/Adam_1:0' shape=(69, 256) dtype=float32_ref>,\n",
              " <tf.Variable 'rnn/multi_rnn_cell/cell_0/basic_lstm_cell/bias/Adam:0' shape=(256,) dtype=float32_ref>,\n",
              " <tf.Variable 'rnn/multi_rnn_cell/cell_0/basic_lstm_cell/bias/Adam_1:0' shape=(256,) dtype=float32_ref>,\n",
              " <tf.Variable 'rnn/multi_rnn_cell/cell_1/basic_lstm_cell/kernel/Adam:0' shape=(128, 256) dtype=float32_ref>,\n",
              " <tf.Variable 'rnn/multi_rnn_cell/cell_1/basic_lstm_cell/kernel/Adam_1:0' shape=(128, 256) dtype=float32_ref>,\n",
              " <tf.Variable 'rnn/multi_rnn_cell/cell_1/basic_lstm_cell/bias/Adam:0' shape=(256,) dtype=float32_ref>,\n",
              " <tf.Variable 'rnn/multi_rnn_cell/cell_1/basic_lstm_cell/bias/Adam_1:0' shape=(256,) dtype=float32_ref>,\n",
              " <tf.Variable 'rnn/multi_rnn_cell/cell_2/basic_lstm_cell/kernel/Adam:0' shape=(128, 256) dtype=float32_ref>,\n",
              " <tf.Variable 'rnn/multi_rnn_cell/cell_2/basic_lstm_cell/kernel/Adam_1:0' shape=(128, 256) dtype=float32_ref>,\n",
              " <tf.Variable 'rnn/multi_rnn_cell/cell_2/basic_lstm_cell/bias/Adam:0' shape=(256,) dtype=float32_ref>,\n",
              " <tf.Variable 'rnn/multi_rnn_cell/cell_2/basic_lstm_cell/bias/Adam_1:0' shape=(256,) dtype=float32_ref>,\n",
              " <tf.Variable 'rnn/multi_rnn_cell/cell_3/basic_lstm_cell/kernel/Adam:0' shape=(128, 256) dtype=float32_ref>,\n",
              " <tf.Variable 'rnn/multi_rnn_cell/cell_3/basic_lstm_cell/kernel/Adam_1:0' shape=(128, 256) dtype=float32_ref>,\n",
              " <tf.Variable 'rnn/multi_rnn_cell/cell_3/basic_lstm_cell/bias/Adam:0' shape=(256,) dtype=float32_ref>,\n",
              " <tf.Variable 'rnn/multi_rnn_cell/cell_3/basic_lstm_cell/bias/Adam_1:0' shape=(256,) dtype=float32_ref>,\n",
              " <tf.Variable 'rnn/multi_rnn_cell/cell_4/basic_lstm_cell/kernel/Adam:0' shape=(128, 256) dtype=float32_ref>,\n",
              " <tf.Variable 'rnn/multi_rnn_cell/cell_4/basic_lstm_cell/kernel/Adam_1:0' shape=(128, 256) dtype=float32_ref>,\n",
              " <tf.Variable 'rnn/multi_rnn_cell/cell_4/basic_lstm_cell/bias/Adam:0' shape=(256,) dtype=float32_ref>,\n",
              " <tf.Variable 'rnn/multi_rnn_cell/cell_4/basic_lstm_cell/bias/Adam_1:0' shape=(256,) dtype=float32_ref>,\n",
              " <tf.Variable 'rnn/multi_rnn_cell/cell_5/basic_lstm_cell/kernel/Adam:0' shape=(128, 256) dtype=float32_ref>,\n",
              " <tf.Variable 'rnn/multi_rnn_cell/cell_5/basic_lstm_cell/kernel/Adam_1:0' shape=(128, 256) dtype=float32_ref>,\n",
              " <tf.Variable 'rnn/multi_rnn_cell/cell_5/basic_lstm_cell/bias/Adam:0' shape=(256,) dtype=float32_ref>,\n",
              " <tf.Variable 'rnn/multi_rnn_cell/cell_5/basic_lstm_cell/bias/Adam_1:0' shape=(256,) dtype=float32_ref>,\n",
              " <tf.Variable 'output_layer_weights/Adam:0' shape=(64, 3) dtype=float32_ref>,\n",
              " <tf.Variable 'output_layer_weights/Adam_1:0' shape=(64, 3) dtype=float32_ref>,\n",
              " <tf.Variable 'output_layer_bias/Adam:0' shape=(3,) dtype=float32_ref>,\n",
              " <tf.Variable 'output_layer_bias/Adam_1:0' shape=(3,) dtype=float32_ref>]"
            ]
          },
          "metadata": {
            "tags": []
          },
          "execution_count": 36
        }
      ]
    },
    {
      "metadata": {
        "id": "07Yf6i-3Qelv",
        "colab_type": "text"
      },
      "cell_type": "markdown",
      "source": [
        "### Time to train the network"
      ]
    },
    {
      "metadata": {
        "id": "TMPtR908Qel3",
        "colab_type": "code",
        "colab": {}
      },
      "cell_type": "code",
      "source": [
        "session =  tf.Session()"
      ],
      "execution_count": 0,
      "outputs": []
    },
    {
      "metadata": {
        "id": "78XJ1zilQemN",
        "colab_type": "code",
        "colab": {}
      },
      "cell_type": "code",
      "source": [
        "session.run(tf.global_variables_initializer())"
      ],
      "execution_count": 0,
      "outputs": []
    },
    {
      "metadata": {
        "scrolled": true,
        "id": "rOz9_PjCQeml",
        "colab_type": "code",
        "outputId": "19d8f1c8-1aca-47da-fba8-aa5867cd60bf",
        "colab": {
          "base_uri": "https://localhost:8080/",
          "height": 189
        }
      },
      "cell_type": "code",
      "source": [
        "total_epoch_loss = []\n",
        "for i in range(epochs):\n",
        "    traind_scores = []\n",
        "    traind_prob = []\n",
        "    ii = 0\n",
        "    epoch_loss = []\n",
        "    while(ii + batch_size) <= len(X_train):\n",
        "        X_batch = X_train[ii:ii+batch_size]\n",
        "        y_batch = y_train[ii:ii+batch_size]\n",
        "        \n",
        "        p, o, c, _ = session.run([model.prob, model.logits, model.loss, model.opt], feed_dict={model.inputs:X_batch, model.targets:y_batch})\n",
        "        \n",
        "        epoch_loss.append(c)\n",
        "        traind_scores.append(o)\n",
        "        traind_prob.append(p)\n",
        "        ii += batch_size\n",
        "    total_epoch_loss.append(c)\n",
        "    print('Epoch {}/{}'.format(i, epochs), ' Current loss: {}'.format(np.mean(epoch_loss)))"
      ],
      "execution_count": 39,
      "outputs": [
        {
          "output_type": "stream",
          "text": [
            "Epoch 0/10  Current loss: 0.9555721282958984\n",
            "Epoch 1/10  Current loss: 0.949289083480835\n",
            "Epoch 2/10  Current loss: 0.9492090940475464\n",
            "Epoch 3/10  Current loss: 0.9493434429168701\n",
            "Epoch 4/10  Current loss: 0.9490175843238831\n",
            "Epoch 5/10  Current loss: 0.9487584829330444\n",
            "Epoch 6/10  Current loss: 0.9489402770996094\n",
            "Epoch 7/10  Current loss: 0.9487469792366028\n",
            "Epoch 8/10  Current loss: 0.9487082362174988\n",
            "Epoch 9/10  Current loss: 0.9486637115478516\n"
          ],
          "name": "stdout"
        }
      ]
    },
    {
      "metadata": {
        "id": "wRzwO0I-Qem9",
        "colab_type": "code",
        "colab": {
          "base_uri": "https://localhost:8080/",
          "height": 282
        },
        "outputId": "4df72175-05c6-4cc7-a47d-a3a4afde761b"
      },
      "cell_type": "code",
      "source": [
        "import matplotlib.pyplot as plt\n",
        "# epoch_loss\n",
        "plt.plot(total_epoch_loss)"
      ],
      "execution_count": 40,
      "outputs": [
        {
          "output_type": "execute_result",
          "data": {
            "text/plain": [
              "[<matplotlib.lines.Line2D at 0x7f3aaa5986a0>]"
            ]
          },
          "metadata": {
            "tags": []
          },
          "execution_count": 40
        },
        {
          "output_type": "display_data",
          "data": {
            "image/png": "[encoded data removed]",
            "text/plain": [
              "<matplotlib.figure.Figure at 0x7f3ab05da5c0>"
            ]
          },
          "metadata": {
            "tags": []
          }
        }
      ]
    },
    {
      "metadata": {
        "id": "WHSY4nvjQeoX",
        "colab_type": "text"
      },
      "cell_type": "markdown",
      "source": [
        "### save model"
      ]
    },
    {
      "metadata": {
        "id": "O2XgROiRQeof",
        "colab_type": "code",
        "colab": {}
      },
      "cell_type": "code",
      "source": [
        "model_save_path = 'drive/MyPython/Trade AI/ckpt/rnn2'\n",
        "SAVED = 0"
      ],
      "execution_count": 0,
      "outputs": []
    },
    {
      "metadata": {
        "id": "4g3Hk50cQeo1",
        "colab_type": "code",
        "colab": {}
      },
      "cell_type": "code",
      "source": [
        "if SAVED:\n",
        "    saver = tf.train.Saver()\n",
        "    saver.save(sess=session, save_path=model_save_path)"
      ],
      "execution_count": 0,
      "outputs": []
    },
    {
      "metadata": {
        "id": "BEl0K2j1QepR",
        "colab_type": "code",
        "colab": {}
      },
      "cell_type": "code",
      "source": [
        "sup =[]\n",
        "for i in range(len(traind_prob)):\n",
        "    for j in range(len(traind_prob[i])):\n",
        "        sup.append(traind_prob[i][j])"
      ],
      "execution_count": 0,
      "outputs": []
    },
    {
      "metadata": {
        "id": "EI4QdSYfQepr",
        "colab_type": "code",
        "colab": {}
      },
      "cell_type": "code",
      "source": [
        "tests = []\n",
        "i = 0\n",
        "while i+batch_size <= len(X_test):\n",
        "    \n",
        "    o = session.run([model.prob], feed_dict={model.inputs:X_test[i:i+batch_size]})\n",
        "    i += batch_size\n",
        "    tests.append(o)"
      ],
      "execution_count": 0,
      "outputs": []
    },
    {
      "metadata": {
        "id": "3rGq1Be9QeqA",
        "colab_type": "code",
        "colab": {}
      },
      "cell_type": "code",
      "source": [
        "tests_new = []\n",
        "for i in range(len(tests)):\n",
        "    for j in range(len(tests[i][0])):\n",
        "        tests_new.append(tests[i][0][j])"
      ],
      "execution_count": 0,
      "outputs": []
    },
    {
      "metadata": {
        "id": "ZjePc07uQeqX",
        "colab_type": "code",
        "colab": {}
      },
      "cell_type": "code",
      "source": [
        "test_results = []\n",
        "for i in range(749):\n",
        "    if i >= 701:\n",
        "        test_results.append(tests_new[i-701])\n",
        "    else:\n",
        "        test_results.append(None)"
      ],
      "execution_count": 0,
      "outputs": []
    },
    {
      "metadata": {
        "id": "vLJk7rTIQeq4",
        "colab_type": "code",
        "colab": {
          "base_uri": "https://localhost:8080/",
          "height": 34
        },
        "outputId": "442addda-3561-46c9-b55a-2128cd809432"
      },
      "cell_type": "code",
      "source": [
        "len(sup)"
      ],
      "execution_count": 47,
      "outputs": [
        {
          "output_type": "execute_result",
          "data": {
            "text/plain": [
              "96000"
            ]
          },
          "metadata": {
            "tags": []
          },
          "execution_count": 47
        }
      ]
    },
    {
      "metadata": {
        "scrolled": true,
        "id": "FYJW4TgTQerb",
        "colab_type": "code",
        "colab": {
          "base_uri": "https://localhost:8080/",
          "height": 34
        },
        "outputId": "89bc4619-b88e-430c-e1a3-2362a592aa26"
      },
      "cell_type": "code",
      "source": [
        "sup[30]"
      ],
      "execution_count": 48,
      "outputs": [
        {
          "output_type": "execute_result",
          "data": {
            "text/plain": [
              "array([0.4635217 , 0.07471508, 0.4617632 ], dtype=float32)"
            ]
          },
          "metadata": {
            "tags": []
          },
          "execution_count": 48
        }
      ]
    },
    {
      "metadata": {
        "scrolled": true,
        "id": "XdgrytwpQerx",
        "colab_type": "code",
        "colab": {
          "base_uri": "https://localhost:8080/",
          "height": 427
        },
        "outputId": "108c8abb-379c-454f-ef27-cc24e57a0388"
      },
      "cell_type": "code",
      "source": [
        "plt.figure(figsize=(16, 7))\n",
        "# plt.plot(scaled_dataset, label='Original data')\n",
        "plt.plot(sup[500:730], label='Training data')\n",
        "# plt.plot(test_results[:], label='Testing data')\n",
        "plt.legend()\n",
        "plt.show()"
      ],
      "execution_count": 49,
      "outputs": [
        {
          "output_type": "display_data",
          "data": {
            "image/png": "[encoded data removed]",
            "text/plain": [
              "<matplotlib.figure.Figure at 0x7f3aa9dd8240>"
            ]
          },
          "metadata": {
            "tags": []
          }
        }
      ]
    },
    {
      "metadata": {
        "id": "MithYgJzQesh",
        "colab_type": "code",
        "colab": {}
      },
      "cell_type": "code",
      "source": [
        ""
      ],
      "execution_count": 0,
      "outputs": []
    }
  ]
}